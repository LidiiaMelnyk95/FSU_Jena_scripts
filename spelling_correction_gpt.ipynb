{
  "cells": [
    {
      "cell_type": "markdown",
      "metadata": {
        "id": "view-in-github",
        "colab_type": "text"
      },
      "source": [
        "<a href=\"https://colab.research.google.com/github/LidiiaMelnyk95/FSU_Jena_scripts/blob/main/spelling_correction_gpt.ipynb\" target=\"_parent\"><img src=\"https://colab.research.google.com/assets/colab-badge.svg\" alt=\"Open In Colab\"/></a>"
      ]
    },
    {
      "cell_type": "code",
      "execution_count": null,
      "metadata": {
        "id": "nrtubLno-jLW"
      },
      "outputs": [],
      "source": [
        "import pandas as pd\n",
        "df = pd.read_csv('/content/replacement_spelling_deduplicated-2.csv', sep =';')"
      ]
    },
    {
      "cell_type": "code",
      "execution_count": null,
      "metadata": {
        "colab": {
          "base_uri": "https://localhost:8080/"
        },
        "id": "p-hD2w0V_FQG",
        "outputId": "1cd8bf4d-8b1c-496e-8fcc-ed2c5006bfc9"
      },
      "outputs": [
        {
          "output_type": "execute_result",
          "data": {
            "text/plain": [
              "Index(['Unnamed: 0', 'SPELLING', 'Comment'], dtype='object')"
            ]
          },
          "metadata": {},
          "execution_count": 2
        }
      ],
      "source": [
        "df.columns"
      ]
    },
    {
      "cell_type": "code",
      "execution_count": null,
      "metadata": {
        "id": "lr3IqUHdAwDr"
      },
      "outputs": [],
      "source": [
        "df = df.dropna(subset = 'SPELLING')"
      ]
    },
    {
      "cell_type": "code",
      "execution_count": null,
      "metadata": {
        "colab": {
          "base_uri": "https://localhost:8080/",
          "height": 359
        },
        "id": "ypENY8_yMhLI",
        "outputId": "e106d4dc-bd12-4d95-f547-7c77615962d0"
      },
      "outputs": [
        {
          "output_type": "execute_result",
          "data": {
            "text/plain": [
              "   Unnamed: 0                                           SPELLING  \\\n",
              "0        1543  :) Bei Partner:innenakrobatikfestivals stapeln...   \n",
              "1        2558   :D okay ... deswegen geht einem die Regenboge...   \n",
              "2         679   \"Das Naturgesetz\" lmaoIch hoffe du trägst kei...   \n",
              "3        2290   \"ja schön. Diese Person kann sich ja auch dem...   \n",
              "4         822   \"Meine Seele\", \"mein Körper\" \"ich\", \"ich\", .....   \n",
              "5         820   \"Na los mach's Maul auf\". Bei so einer Formul...   \n",
              "6        2006  \"Sollten wir in diesem Fall Gefühle über die R...   \n",
              "7        2805  Aber ich sehe in keinster Weise wie meine Sich...   \n",
              "8        1117  TheWastedAccount12 Achso und lese gerade dass ...   \n",
              "9        2773   Ach, super. Dann danke für die sachliche Klar...   \n",
              "\n",
              "                                             Comment  \n",
              "0   :) Bei Partner:innenakrobatikfestivals stapel...  \n",
              "1   :D okay ... deswegen geht einem die Regenboge...  \n",
              "2   \"Das Naturgesetz\" lmaoIch hoffe du trägst kei...  \n",
              "3   \"ja schön. Diese Person kann sich ja auch dem...  \n",
              "4   \"Meine Seele\", \"mein Körper\" \"ich\", \"ich\", .....  \n",
              "5   \"Na los mach das Maul auf\". Bei so einer Form...  \n",
              "6   \"Sollten wir in diesem Fall Gefühle über die ...  \n",
              "7   Aber ich sehe in keinster Weise wie meine Sic...  \n",
              "8   Ach so und lese gerade, dass du der Beleidigu...  \n",
              "9   Ach, super. Dann danke für die sachliche Klar...  "
            ],
            "text/html": [
              "\n",
              "  <div id=\"df-0a650140-c222-430a-bc45-71e3cda4712e\">\n",
              "    <div class=\"colab-df-container\">\n",
              "      <div>\n",
              "<style scoped>\n",
              "    .dataframe tbody tr th:only-of-type {\n",
              "        vertical-align: middle;\n",
              "    }\n",
              "\n",
              "    .dataframe tbody tr th {\n",
              "        vertical-align: top;\n",
              "    }\n",
              "\n",
              "    .dataframe thead th {\n",
              "        text-align: right;\n",
              "    }\n",
              "</style>\n",
              "<table border=\"1\" class=\"dataframe\">\n",
              "  <thead>\n",
              "    <tr style=\"text-align: right;\">\n",
              "      <th></th>\n",
              "      <th>Unnamed: 0</th>\n",
              "      <th>SPELLING</th>\n",
              "      <th>Comment</th>\n",
              "    </tr>\n",
              "  </thead>\n",
              "  <tbody>\n",
              "    <tr>\n",
              "      <th>0</th>\n",
              "      <td>1543</td>\n",
              "      <td>:) Bei Partner:innenakrobatikfestivals stapeln...</td>\n",
              "      <td>:) Bei Partner:innenakrobatikfestivals stapel...</td>\n",
              "    </tr>\n",
              "    <tr>\n",
              "      <th>1</th>\n",
              "      <td>2558</td>\n",
              "      <td>:D okay ... deswegen geht einem die Regenboge...</td>\n",
              "      <td>:D okay ... deswegen geht einem die Regenboge...</td>\n",
              "    </tr>\n",
              "    <tr>\n",
              "      <th>2</th>\n",
              "      <td>679</td>\n",
              "      <td>\"Das Naturgesetz\" lmaoIch hoffe du trägst kei...</td>\n",
              "      <td>\"Das Naturgesetz\" lmaoIch hoffe du trägst kei...</td>\n",
              "    </tr>\n",
              "    <tr>\n",
              "      <th>3</th>\n",
              "      <td>2290</td>\n",
              "      <td>\"ja schön. Diese Person kann sich ja auch dem...</td>\n",
              "      <td>\"ja schön. Diese Person kann sich ja auch dem...</td>\n",
              "    </tr>\n",
              "    <tr>\n",
              "      <th>4</th>\n",
              "      <td>822</td>\n",
              "      <td>\"Meine Seele\", \"mein Körper\" \"ich\", \"ich\", .....</td>\n",
              "      <td>\"Meine Seele\", \"mein Körper\" \"ich\", \"ich\", .....</td>\n",
              "    </tr>\n",
              "    <tr>\n",
              "      <th>5</th>\n",
              "      <td>820</td>\n",
              "      <td>\"Na los mach's Maul auf\". Bei so einer Formul...</td>\n",
              "      <td>\"Na los mach das Maul auf\". Bei so einer Form...</td>\n",
              "    </tr>\n",
              "    <tr>\n",
              "      <th>6</th>\n",
              "      <td>2006</td>\n",
              "      <td>\"Sollten wir in diesem Fall Gefühle über die R...</td>\n",
              "      <td>\"Sollten wir in diesem Fall Gefühle über die ...</td>\n",
              "    </tr>\n",
              "    <tr>\n",
              "      <th>7</th>\n",
              "      <td>2805</td>\n",
              "      <td>Aber ich sehe in keinster Weise wie meine Sich...</td>\n",
              "      <td>Aber ich sehe in keinster Weise wie meine Sic...</td>\n",
              "    </tr>\n",
              "    <tr>\n",
              "      <th>8</th>\n",
              "      <td>1117</td>\n",
              "      <td>TheWastedAccount12 Achso und lese gerade dass ...</td>\n",
              "      <td>Ach so und lese gerade, dass du der Beleidigu...</td>\n",
              "    </tr>\n",
              "    <tr>\n",
              "      <th>9</th>\n",
              "      <td>2773</td>\n",
              "      <td>Ach, super. Dann danke für die sachliche Klar...</td>\n",
              "      <td>Ach, super. Dann danke für die sachliche Klar...</td>\n",
              "    </tr>\n",
              "  </tbody>\n",
              "</table>\n",
              "</div>\n",
              "      <button class=\"colab-df-convert\" onclick=\"convertToInteractive('df-0a650140-c222-430a-bc45-71e3cda4712e')\"\n",
              "              title=\"Convert this dataframe to an interactive table.\"\n",
              "              style=\"display:none;\">\n",
              "        \n",
              "  <svg xmlns=\"http://www.w3.org/2000/svg\" height=\"24px\"viewBox=\"0 0 24 24\"\n",
              "       width=\"24px\">\n",
              "    <path d=\"M0 0h24v24H0V0z\" fill=\"none\"/>\n",
              "    <path d=\"M18.56 5.44l.94 2.06.94-2.06 2.06-.94-2.06-.94-.94-2.06-.94 2.06-2.06.94zm-11 1L8.5 8.5l.94-2.06 2.06-.94-2.06-.94L8.5 2.5l-.94 2.06-2.06.94zm10 10l.94 2.06.94-2.06 2.06-.94-2.06-.94-.94-2.06-.94 2.06-2.06.94z\"/><path d=\"M17.41 7.96l-1.37-1.37c-.4-.4-.92-.59-1.43-.59-.52 0-1.04.2-1.43.59L10.3 9.45l-7.72 7.72c-.78.78-.78 2.05 0 2.83L4 21.41c.39.39.9.59 1.41.59.51 0 1.02-.2 1.41-.59l7.78-7.78 2.81-2.81c.8-.78.8-2.07 0-2.86zM5.41 20L4 18.59l7.72-7.72 1.47 1.35L5.41 20z\"/>\n",
              "  </svg>\n",
              "      </button>\n",
              "      \n",
              "  <style>\n",
              "    .colab-df-container {\n",
              "      display:flex;\n",
              "      flex-wrap:wrap;\n",
              "      gap: 12px;\n",
              "    }\n",
              "\n",
              "    .colab-df-convert {\n",
              "      background-color: #E8F0FE;\n",
              "      border: none;\n",
              "      border-radius: 50%;\n",
              "      cursor: pointer;\n",
              "      display: none;\n",
              "      fill: #1967D2;\n",
              "      height: 32px;\n",
              "      padding: 0 0 0 0;\n",
              "      width: 32px;\n",
              "    }\n",
              "\n",
              "    .colab-df-convert:hover {\n",
              "      background-color: #E2EBFA;\n",
              "      box-shadow: 0px 1px 2px rgba(60, 64, 67, 0.3), 0px 1px 3px 1px rgba(60, 64, 67, 0.15);\n",
              "      fill: #174EA6;\n",
              "    }\n",
              "\n",
              "    [theme=dark] .colab-df-convert {\n",
              "      background-color: #3B4455;\n",
              "      fill: #D2E3FC;\n",
              "    }\n",
              "\n",
              "    [theme=dark] .colab-df-convert:hover {\n",
              "      background-color: #434B5C;\n",
              "      box-shadow: 0px 1px 3px 1px rgba(0, 0, 0, 0.15);\n",
              "      filter: drop-shadow(0px 1px 2px rgba(0, 0, 0, 0.3));\n",
              "      fill: #FFFFFF;\n",
              "    }\n",
              "  </style>\n",
              "\n",
              "      <script>\n",
              "        const buttonEl =\n",
              "          document.querySelector('#df-0a650140-c222-430a-bc45-71e3cda4712e button.colab-df-convert');\n",
              "        buttonEl.style.display =\n",
              "          google.colab.kernel.accessAllowed ? 'block' : 'none';\n",
              "\n",
              "        async function convertToInteractive(key) {\n",
              "          const element = document.querySelector('#df-0a650140-c222-430a-bc45-71e3cda4712e');\n",
              "          const dataTable =\n",
              "            await google.colab.kernel.invokeFunction('convertToInteractive',\n",
              "                                                     [key], {});\n",
              "          if (!dataTable) return;\n",
              "\n",
              "          const docLinkHtml = 'Like what you see? Visit the ' +\n",
              "            '<a target=\"_blank\" href=https://colab.research.google.com/notebooks/data_table.ipynb>data table notebook</a>'\n",
              "            + ' to learn more about interactive tables.';\n",
              "          element.innerHTML = '';\n",
              "          dataTable['output_type'] = 'display_data';\n",
              "          await google.colab.output.renderOutput(dataTable, element);\n",
              "          const docLink = document.createElement('div');\n",
              "          docLink.innerHTML = docLinkHtml;\n",
              "          element.appendChild(docLink);\n",
              "        }\n",
              "      </script>\n",
              "    </div>\n",
              "  </div>\n",
              "  "
            ]
          },
          "metadata": {},
          "execution_count": 6
        }
      ],
      "source": [
        "df.head(10)"
      ]
    },
    {
      "cell_type": "code",
      "source": [
        "import pandas as pd\n",
        "from transformers import pipeline, AutoTokenizer\n",
        "\n",
        "import pandas as pd\n",
        "from transformers import AutoTokenizer, pipeline\n",
        "from nltk.translate import bleu_score\n",
        "\n",
        "def load_data(file_path):\n",
        "    return pd.read_csv(file_path, sep=';')\n",
        "\n",
        "def generate_text(model_name, wrong_version, corrected_version, tokenizer, generator):\n",
        "    prompt = f\"Das ist ein Beispieltext, der korrigiert werden soll: {wrong_version}. Die korrigierte Version von '{corrected_version}' lautet:\"\n",
        "    tokens = tokenizer.encode(prompt, add_special_tokens=False)\n",
        "\n",
        "    try:\n",
        "        generated_text = generator(corrected_version, max_length=512, num_return_sequences=1)[0][\"generated_text\"]\n",
        "    except Exception as e:\n",
        "        print(f\"An error occurred during generation: {e}\")\n",
        "        generated_text = corrected_version  # Use the original text if an error occurs\n",
        "\n",
        "    return generated_text\n",
        "\n",
        "def calculate_bleu_scores(reference_texts, generated_texts):\n",
        "    bleu_refs = [bleu_score.sentence_bleu([ref.split()], gen.split()) for ref, gen in zip(reference_texts, generated_texts)]\n",
        "    average_bleu_score = sum(bleu_refs) / len(bleu_refs)\n",
        "    return average_bleu_score\n",
        "\n",
        "def main():\n",
        "    # Load data\n",
        "    file_path = \"/content/replacement_spelling_deduplicated-2.csv\"\n",
        "    df = load_data(file_path)\n",
        "\n",
        "    # Initialize tokenizer and generator\n",
        "    model_name = \"dbmdz/german-gpt2\"\n",
        "    tokenizer = AutoTokenizer.from_pretrained(model_name)\n",
        "    generator = pipeline(\"text-generation\", model=model_name, tokenizer=tokenizer)\n",
        "\n",
        "    # Generate corrected text for each comment in the dataframe\n",
        "    generated_texts = [generate_text(model_name, wrong_version, corrected_version, tokenizer, generator)\n",
        "                   for wrong_version, corrected_version in zip(df['Comment'], df['SPELLING'])]\n",
        "\n",
        "    # Write generated text to the \"Generated\" column\n",
        "    df[\"Generated\"] = generated_texts\n",
        "\n",
        "    # Calculate BLEU scores\n",
        "    bleu_score = calculate_bleu_scores(df[\"Comment\"], generated_texts)\n",
        "    print(f\"Average BLEU score: {bleu_score:.4f}\")\n",
        "\n",
        "if __name__ == \"__main__\":\n",
        "    main()\n"
      ],
      "metadata": {
        "id": "CWOkX2tg4G1z"
      },
      "execution_count": null,
      "outputs": []
    },
    {
      "cell_type": "code",
      "source": [
        "import pandas as pd\n",
        "from rouge import Rouge\n",
        "\n",
        "def calculate_rouge_scores(df, reference_column, generated_column):\n",
        "    rouge = Rouge()\n",
        "\n",
        "    def calculate_rouge(row):\n",
        "        reference_text = row[reference_column]\n",
        "        generated_text = row[generated_column]\n",
        "\n",
        "        scores = rouge.get_scores(generated_text, reference_text)[0]\n",
        "\n",
        "        return {\n",
        "            'ROUGE-1': scores.get('rouge-1', {}).get('f', 0.0),\n",
        "            'ROUGE-2': scores.get('rouge-2', {}).get('f', 0.0),\n",
        "            'ROUGE-3': scores.get('rouge-3', {}).get('f', 0.0),\n",
        "        }\n",
        "\n",
        "    rouge_scores_df = df.apply(calculate_rouge, axis=1, result_type='expand')\n",
        "    df = pd.concat([df, rouge_scores_df], axis=1)\n",
        "\n",
        "    return df\n",
        "\n",
        "# Calculate ROUGE scores\n",
        "df = calculate_rouge_scores(df, 'Comment', 'Generated')\n",
        "print(df)\n"
      ],
      "metadata": {
        "id": "HhMueJl1Xyem"
      },
      "execution_count": null,
      "outputs": []
    },
    {
      "cell_type": "code",
      "source": [
        "df[\"ROUGE-1\"].mean(), df['ROUGE-2'].mean(), df['ROUGE-3'].mean()"
      ],
      "metadata": {
        "colab": {
          "base_uri": "https://localhost:8080/"
        },
        "id": "9HsoAV1gYY2w",
        "outputId": "8d1afe50-77a9-4f60-92e1-d666ad676b98"
      },
      "execution_count": null,
      "outputs": [
        {
          "output_type": "execute_result",
          "data": {
            "text/plain": [
              "(0.9096590359184268, 0.8663294078717427, 0.0)"
            ]
          },
          "metadata": {},
          "execution_count": 8
        }
      ]
    },
    {
      "cell_type": "code",
      "source": [
        "from nltk.translate import bleu_score\n",
        "bleu_refs = [[text.split()] for text in df[\"Comment\"].tolist()]\n",
        "bleu_sys = [text.split() for text in list(df['Generated_2'].values)]\n",
        "bleu_score = bleu_score.corpus_bleu(bleu_refs, bleu_sys)\n",
        "\n",
        "print(f\"BLEU score: {bleu_score}\")"
      ],
      "metadata": {
        "colab": {
          "base_uri": "https://localhost:8080/"
        },
        "id": "ZE4VP3Mjzufy",
        "outputId": "0e9bf38b-b0f4-4f78-b520-632af403b15f"
      },
      "execution_count": null,
      "outputs": [
        {
          "output_type": "stream",
          "name": "stdout",
          "text": [
            "BLEU score: 0.9029008232280601\n"
          ]
        }
      ]
    },
    {
      "cell_type": "code",
      "source": [
        "from nltk.util import ngrams\n",
        "from nltk import word_tokenize\n",
        "from nltk.corpus import wordnet as wn\n",
        "\n",
        "def precision(candidate, reference, n):\n",
        "    \"\"\"\n",
        "    Calculate the precision of n-grams in a text.\n",
        "\n",
        "    Args:\n",
        "    - candidate (str): The generated text\n",
        "    - reference (str): The reference text\n",
        "    - n (int): The n-gram order\n",
        "\n",
        "    Returns:\n",
        "    - float: The precision score\n",
        "    \"\"\"\n",
        "    candidate_ngrams = ngrams(word_tokenize(candidate), n)\n",
        "    reference_ngrams = ngrams(word_tokenize(reference), n)\n",
        "    candidate_ngrams_set = set(candidate_ngrams)\n",
        "    reference_ngrams_set = set(reference_ngrams)\n",
        "    common_ngrams = candidate_ngrams_set.intersection(reference_ngrams_set)\n",
        "    precision = len(common_ngrams) / len(candidate_ngrams_set)\n",
        "    return precision"
      ],
      "metadata": {
        "id": "nsSc6mekyHYc"
      },
      "execution_count": null,
      "outputs": []
    },
    {
      "cell_type": "code",
      "source": [
        "def brevity_penalty(candidate, reference):\n",
        "    \"\"\"\n",
        "    Calculate the brevity penalty for the precision score.\n",
        "\n",
        "    Args:\n",
        "    - candidate (str): The generated text\n",
        "    - reference (str): The reference text\n",
        "\n",
        "    Returns:\n",
        "    - float: The brevity penalty\n",
        "    \"\"\"\n",
        "    candidate_length = len(word_tokenize(candidate))\n",
        "    reference_length = len(word_tokenize(reference))\n",
        "    if candidate_length > reference_length:\n",
        "        brevity_penalty = 1\n",
        "    else:\n",
        "        brevity_penalty = np.exp(1 - reference_length / candidate_length)\n",
        "    return brevity_penalty"
      ],
      "metadata": {
        "id": "M_UBkZ9rCXcr"
      },
      "execution_count": null,
      "outputs": []
    },
    {
      "cell_type": "code",
      "source": [
        "def gleu(candidate, reference, max_order=4):\n",
        "    \"\"\"\n",
        "    Calculate the GLEU score for a generated text compared to a reference text.\n",
        "\n",
        "    Args:\n",
        "    - candidate (str): The generated text\n",
        "    - reference (str): The reference text\n",
        "    - max_order (int): The maximum n-gram order to consider (default: 4)\n",
        "\n",
        "    Returns:\n",
        "    - float: The GLEU score\n",
        "    \"\"\"\n",
        "    precision_scores = []\n",
        "    for n in range(1, max_order + 1):\n",
        "        precision_scores.append(precision(candidate, reference, n))\n",
        "    brevity_penalty_score = brevity_penalty(candidate, reference)\n",
        "    gleu_score = brevity_penalty_score * np.exp(np.mean(np.log(precision_scores)))\n",
        "    return gleu_score"
      ],
      "metadata": {
        "id": "zKm2BOVkCYNX"
      },
      "execution_count": null,
      "outputs": []
    },
    {
      "cell_type": "code",
      "source": [
        "# Apply GLEU calculation to each row\n",
        "df['gleu'] = df.apply(lambda row: glue(row['Comment'], row['Generated']), axis=1)\n",
        "\n",
        "# Calculate the mean GLEU score\n",
        "gleu_score = df['gleu'].mean()\n",
        "\n",
        "# Print or use the GLEU score as needed\n",
        "print(f\"GLEU score: {gleu_score}\")"
      ],
      "metadata": {
        "colab": {
          "base_uri": "https://localhost:8080/"
        },
        "id": "wh1SXqqGDRnD",
        "outputId": "c0a37a53-7c70-485f-d89e-0010b58155e1"
      },
      "execution_count": null,
      "outputs": [
        {
          "output_type": "execute_result",
          "data": {
            "text/plain": [
              "0.6385209191579728"
            ]
          },
          "metadata": {},
          "execution_count": 21
        }
      ]
    },
    {
      "cell_type": "code",
      "source": [
        "!pip install Levenshtein\n",
        "from Levenshtein import distance"
      ],
      "metadata": {
        "id": "z_qkyROxDoI6"
      },
      "execution_count": null,
      "outputs": []
    },
    {
      "cell_type": "code",
      "source": [
        "df['distance'] = df.apply(lambda row: distance(row['Comment'], row['Generated']), axis=1)\n",
        "\n",
        "df.distance.mean()"
      ],
      "metadata": {
        "colab": {
          "base_uri": "https://localhost:8080/"
        },
        "id": "wJykjXluDqX3",
        "outputId": "0e4ade17-d41d-48b3-ece7-55dd2d2ad3fb"
      },
      "execution_count": null,
      "outputs": [
        {
          "output_type": "execute_result",
          "data": {
            "text/plain": [
              "263.79333333333335"
            ]
          },
          "metadata": {},
          "execution_count": 24
        }
      ]
    }
  ],
  "metadata": {
    "accelerator": "GPU",
    "colab": {
      "provenance": [],
      "authorship_tag": "ABX9TyMgF6rtJp3gzikMZtJSopSu",
      "include_colab_link": true
    },
    "gpuClass": "standard",
    "kernelspec": {
      "display_name": "Python 3",
      "name": "python3"
    },
    "language_info": {
      "name": "python"
    }
  },
  "nbformat": 4,
  "nbformat_minor": 0
}