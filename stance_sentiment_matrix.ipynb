{
  "nbformat": 4,
  "nbformat_minor": 0,
  "metadata": {
    "colab": {
      "provenance": [],
      "authorship_tag": "ABX9TyO2B7VOBOWNoV6sngQJSth2",
      "include_colab_link": true
    },
    "kernelspec": {
      "name": "python3",
      "display_name": "Python 3"
    },
    "language_info": {
      "name": "python"
    }
  },
  "cells": [
    {
      "cell_type": "markdown",
      "metadata": {
        "id": "view-in-github",
        "colab_type": "text"
      },
      "source": [
        "<a href=\"https://colab.research.google.com/github/LidiiaMelnyk95/FSU_Jena_scripts/blob/main/stance_sentiment_matrix.ipynb\" target=\"_parent\"><img src=\"https://colab.research.google.com/assets/colab-badge.svg\" alt=\"Open In Colab\"/></a>"
      ]
    },
    {
      "cell_type": "code",
      "execution_count": null,
      "metadata": {
        "id": "-sfuchIb3So0"
      },
      "outputs": [],
      "source": [
        "import pandas as pd\n",
        "import numpy as np\n",
        "import matplotlib.pyplot as plt\n",
        "import sklearn\n",
        "from sklearn.metrics import confusion_matrix, cohen_kappa_score\n",
        "from sklearn.utils import resample\n",
        "\n",
        "\n",
        "df = pd.read_csv('/content/cnn_sentiment_new.csv', sep = ',')"
      ]
    },
    {
      "cell_type": "code",
      "source": [
        "df['Sentiment'] = df['Sentiment'].replace({'neutral': 0, 'negative':1, 'positive':2})"
      ],
      "metadata": {
        "id": "m0RJ6CxU3tOk"
      },
      "execution_count": null,
      "outputs": []
    },
    {
      "cell_type": "code",
      "source": [
        "df['Label'].value_counts()"
      ],
      "metadata": {
        "colab": {
          "base_uri": "https://localhost:8080/"
        },
        "id": "t1hazxiOORd8",
        "outputId": "7fb52a4e-f397-400c-d45a-b1faaf18472d"
      },
      "execution_count": null,
      "outputs": [
        {
          "output_type": "execute_result",
          "data": {
            "text/plain": [
              "neutral     712\n",
              "negative    174\n",
              "positive    113\n",
              "Name: Label, dtype: int64"
            ]
          },
          "metadata": {},
          "execution_count": 3
        }
      ]
    },
    {
      "cell_type": "code",
      "source": [
        "class SentimentBalancer:\n",
        "    def __init__(self, df, sentiment_column, label_column):\n",
        "        self.df = df\n",
        "        self.sentiment_column = sentiment_column\n",
        "        self.label_column = label_column\n",
        "\n",
        "    def _oversample_class(self, df_class, count_majority_class):\n",
        "        return resample(df_class, n_samples=count_majority_class, replace=True, random_state=42)\n",
        "\n",
        "    def balance_sentiment_classes(self):\n",
        "        sentiment_counts = self.df[self.sentiment_column].value_counts()\n",
        "        count_majority_class = sentiment_counts.max()\n",
        "\n",
        "        df_majority_class = self.df[self.df[self.sentiment_column] == 'neutral']\n",
        "        df_minority_class = self.df[self.df[self.sentiment_column] == 'positive']\n",
        "        df_middle_class = self.df[self.df[self.sentiment_column] == 'negative']\n",
        "\n",
        "        df_class_oversample = self._oversample_class(df_minority_class, count_majority_class)\n",
        "        df_mid_sample = self._oversample_class(df_middle_class, count_majority_class)\n",
        "\n",
        "        df_balanced_os = pd.concat([df_class_oversample, df_majority_class, df_mid_sample], axis=0)\n",
        "\n",
        "        return df_balanced_os\n",
        "\n",
        "    def balance_label_classes(self):\n",
        "        label_counts = self.df[self.label_column].value_counts()\n",
        "        count_majority_class = label_counts.max()\n",
        "\n",
        "        df_majority_class = self.df[self.df[self.label_column] == 'neutral']\n",
        "        df_minority_class = self.df[self.df[self.label_column] == 'positive']\n",
        "        df_middle_class = self.df[self.df[self.label_column] == 'negative']\n",
        "\n",
        "        df_class_oversample = self._oversample_class(df_minority_class, count_majority_class)\n",
        "        df_mid_sample = self._oversample_class(df_middle_class, count_majority_class)\n",
        "\n",
        "        df_balanced_os_stance = pd.concat([df_class_oversample, df_majority_class, df_mid_sample], axis=0)\n",
        "\n",
        "        return df_balanced_os_stance\n",
        "\n",
        "    def combine_and_return(self):\n",
        "        df_balanced_os = self.balance_sentiment_classes()\n",
        "        df_balanced_os_stance = self.balance_label_classes()\n",
        "        return pd.concat([df_balanced_os, df_balanced_os_stance], join='inner')\n",
        "\n",
        "# Example usage:\n",
        "sentiment_balancer = SentimentBalancer(df, sentiment_column='Sentiment', label_column='Label')\n",
        "df_combined_balanced = sentiment_balancer.combine_and_return()\n"
      ],
      "metadata": {
        "id": "hIIPKu53Odoj"
      },
      "execution_count": null,
      "outputs": []
    },
    {
      "cell_type": "code",
      "source": [
        "#create a confusion metrics\n",
        "import itertools\n",
        "\n",
        "figsize = (10,10)\n",
        "\n",
        "def make_confusion_matrix(y_true, y_pred, classes = None,\n",
        "                          figsize = (10,10), text_size = 15):\n",
        "\n",
        "  #create the confusion matrix\n",
        "  cm = confusion_matrix(y_true, y_pred)\n",
        "  cm_norm = cm.astype('float')/cm.sum(axis = 1)[:, np.newaxis] #normalize our confusion matrix\n",
        "  n_classes = cm.shape[0]\n",
        "\n",
        "  #let's prettify it\n",
        "  fig, ax = plt.subplots(figsize = figsize)\n",
        "  #create a matrix plot\n",
        "  cax = ax.matshow(cm, cmap = plt.cm.Blues)\n",
        "  fig.colorbar(cax)\n",
        "\n",
        "  #set labels to be classes\n",
        "\n",
        "  if classes:\n",
        "    labels = classes\n",
        "  else:\n",
        "    labels = np.arange(cm.shape[0])\n",
        "\n",
        "\n",
        "  #label the axes\n",
        "  ax.set(title = 'confusion matrix',\n",
        "         xlabel = 'sentiment label',\n",
        "         ylabel = 'stance label',\n",
        "         xticks = np.arange(n_classes),\n",
        "         yticks = np.arange(n_classes),\n",
        "         xticklabels = labels,\n",
        "         yticklabels = labels)\n",
        "\n",
        "  #set threshold for different colors\n",
        "  threshold = (cm.max() + cm.min())/2\n",
        "\n",
        "  #plot the text on each sell\n",
        "  for i, j in itertools.product(range(cm.shape[0]), range(cm.shape[1])):\n",
        "    plt.text(\n",
        "        j, i, f\"{cm[i,j]} ({cm_norm[i,j]*100:.1f}%)\",\n",
        "        horizontalalignment = 'center',\n",
        "        color = 'white' if cm[i,j]> threshold else 'black',\n",
        "        size = text_size)"
      ],
      "metadata": {
        "id": "zY1kbjYl36Q0"
      },
      "execution_count": null,
      "outputs": []
    },
    {
      "cell_type": "code",
      "source": [
        "class_names = ['negative', 'neutral', 'positive']"
      ],
      "metadata": {
        "id": "-9UUkuB-4S7V"
      },
      "execution_count": null,
      "outputs": []
    },
    {
      "cell_type": "code",
      "source": [
        "df.head(10)"
      ],
      "metadata": {
        "colab": {
          "base_uri": "https://localhost:8080/",
          "height": 362
        },
        "id": "cKv0ReOKOzPJ",
        "outputId": "a237ca98-583e-4959-e94a-32cb85b792e1"
      },
      "execution_count": null,
      "outputs": [
        {
          "output_type": "execute_result",
          "data": {
            "text/plain": [
              "   Unnamed: 0                                            Comment     Label  \\\n",
              "0           0  @docdespair agitation is not an action that ch...   neutral   \n",
              "1           1  @Kölsch Mädche bzw gibt es auf deutsch einfach...   neutral   \n",
              "2           2  @Aaron Decker na dann blicken wir mal in das J...   neutral   \n",
              "3           3  Ja da schlucken sie,über ihren eigenen Dung. D...  negative   \n",
              "4           4  Ich versteh es einfach nicht wozu man für sowa...   neutral   \n",
              "5           5  hi ich habe gehört Amir Arabpour möchte Sex mi...   neutral   \n",
              "6           6  @Uvuvuvwevwe Onyetenwevwe Ugwemubwem Osas  da ...   neutral   \n",
              "7           7  @WhoisAry  Ganz einfach, in dem kontext war es...  negative   \n",
              "8           8  @Fußball,Games and more YouTube Da sind dir ab...   neutral   \n",
              "9           9                           P. S. Hübsche Frauen....   neutral   \n",
              "\n",
              "  Sentiment  \n",
              "0  negative  \n",
              "1  negative  \n",
              "2  negative  \n",
              "3  negative  \n",
              "4  negative  \n",
              "5  negative  \n",
              "6  negative  \n",
              "7  negative  \n",
              "8  negative  \n",
              "9  negative  "
            ],
            "text/html": [
              "\n",
              "  <div id=\"df-3931ddde-c4aa-4b41-8b9f-7bfc1d4fa002\">\n",
              "    <div class=\"colab-df-container\">\n",
              "      <div>\n",
              "<style scoped>\n",
              "    .dataframe tbody tr th:only-of-type {\n",
              "        vertical-align: middle;\n",
              "    }\n",
              "\n",
              "    .dataframe tbody tr th {\n",
              "        vertical-align: top;\n",
              "    }\n",
              "\n",
              "    .dataframe thead th {\n",
              "        text-align: right;\n",
              "    }\n",
              "</style>\n",
              "<table border=\"1\" class=\"dataframe\">\n",
              "  <thead>\n",
              "    <tr style=\"text-align: right;\">\n",
              "      <th></th>\n",
              "      <th>Unnamed: 0</th>\n",
              "      <th>Comment</th>\n",
              "      <th>Label</th>\n",
              "      <th>Sentiment</th>\n",
              "    </tr>\n",
              "  </thead>\n",
              "  <tbody>\n",
              "    <tr>\n",
              "      <th>0</th>\n",
              "      <td>0</td>\n",
              "      <td>@docdespair agitation is not an action that ch...</td>\n",
              "      <td>neutral</td>\n",
              "      <td>negative</td>\n",
              "    </tr>\n",
              "    <tr>\n",
              "      <th>1</th>\n",
              "      <td>1</td>\n",
              "      <td>@Kölsch Mädche bzw gibt es auf deutsch einfach...</td>\n",
              "      <td>neutral</td>\n",
              "      <td>negative</td>\n",
              "    </tr>\n",
              "    <tr>\n",
              "      <th>2</th>\n",
              "      <td>2</td>\n",
              "      <td>@Aaron Decker na dann blicken wir mal in das J...</td>\n",
              "      <td>neutral</td>\n",
              "      <td>negative</td>\n",
              "    </tr>\n",
              "    <tr>\n",
              "      <th>3</th>\n",
              "      <td>3</td>\n",
              "      <td>Ja da schlucken sie,über ihren eigenen Dung. D...</td>\n",
              "      <td>negative</td>\n",
              "      <td>negative</td>\n",
              "    </tr>\n",
              "    <tr>\n",
              "      <th>4</th>\n",
              "      <td>4</td>\n",
              "      <td>Ich versteh es einfach nicht wozu man für sowa...</td>\n",
              "      <td>neutral</td>\n",
              "      <td>negative</td>\n",
              "    </tr>\n",
              "    <tr>\n",
              "      <th>5</th>\n",
              "      <td>5</td>\n",
              "      <td>hi ich habe gehört Amir Arabpour möchte Sex mi...</td>\n",
              "      <td>neutral</td>\n",
              "      <td>negative</td>\n",
              "    </tr>\n",
              "    <tr>\n",
              "      <th>6</th>\n",
              "      <td>6</td>\n",
              "      <td>@Uvuvuvwevwe Onyetenwevwe Ugwemubwem Osas  da ...</td>\n",
              "      <td>neutral</td>\n",
              "      <td>negative</td>\n",
              "    </tr>\n",
              "    <tr>\n",
              "      <th>7</th>\n",
              "      <td>7</td>\n",
              "      <td>@WhoisAry  Ganz einfach, in dem kontext war es...</td>\n",
              "      <td>negative</td>\n",
              "      <td>negative</td>\n",
              "    </tr>\n",
              "    <tr>\n",
              "      <th>8</th>\n",
              "      <td>8</td>\n",
              "      <td>@Fußball,Games and more YouTube Da sind dir ab...</td>\n",
              "      <td>neutral</td>\n",
              "      <td>negative</td>\n",
              "    </tr>\n",
              "    <tr>\n",
              "      <th>9</th>\n",
              "      <td>9</td>\n",
              "      <td>P. S. Hübsche Frauen....</td>\n",
              "      <td>neutral</td>\n",
              "      <td>negative</td>\n",
              "    </tr>\n",
              "  </tbody>\n",
              "</table>\n",
              "</div>\n",
              "      <button class=\"colab-df-convert\" onclick=\"convertToInteractive('df-3931ddde-c4aa-4b41-8b9f-7bfc1d4fa002')\"\n",
              "              title=\"Convert this dataframe to an interactive table.\"\n",
              "              style=\"display:none;\">\n",
              "        \n",
              "  <svg xmlns=\"http://www.w3.org/2000/svg\" height=\"24px\"viewBox=\"0 0 24 24\"\n",
              "       width=\"24px\">\n",
              "    <path d=\"M0 0h24v24H0V0z\" fill=\"none\"/>\n",
              "    <path d=\"M18.56 5.44l.94 2.06.94-2.06 2.06-.94-2.06-.94-.94-2.06-.94 2.06-2.06.94zm-11 1L8.5 8.5l.94-2.06 2.06-.94-2.06-.94L8.5 2.5l-.94 2.06-2.06.94zm10 10l.94 2.06.94-2.06 2.06-.94-2.06-.94-.94-2.06-.94 2.06-2.06.94z\"/><path d=\"M17.41 7.96l-1.37-1.37c-.4-.4-.92-.59-1.43-.59-.52 0-1.04.2-1.43.59L10.3 9.45l-7.72 7.72c-.78.78-.78 2.05 0 2.83L4 21.41c.39.39.9.59 1.41.59.51 0 1.02-.2 1.41-.59l7.78-7.78 2.81-2.81c.8-.78.8-2.07 0-2.86zM5.41 20L4 18.59l7.72-7.72 1.47 1.35L5.41 20z\"/>\n",
              "  </svg>\n",
              "      </button>\n",
              "      \n",
              "  <style>\n",
              "    .colab-df-container {\n",
              "      display:flex;\n",
              "      flex-wrap:wrap;\n",
              "      gap: 12px;\n",
              "    }\n",
              "\n",
              "    .colab-df-convert {\n",
              "      background-color: #E8F0FE;\n",
              "      border: none;\n",
              "      border-radius: 50%;\n",
              "      cursor: pointer;\n",
              "      display: none;\n",
              "      fill: #1967D2;\n",
              "      height: 32px;\n",
              "      padding: 0 0 0 0;\n",
              "      width: 32px;\n",
              "    }\n",
              "\n",
              "    .colab-df-convert:hover {\n",
              "      background-color: #E2EBFA;\n",
              "      box-shadow: 0px 1px 2px rgba(60, 64, 67, 0.3), 0px 1px 3px 1px rgba(60, 64, 67, 0.15);\n",
              "      fill: #174EA6;\n",
              "    }\n",
              "\n",
              "    [theme=dark] .colab-df-convert {\n",
              "      background-color: #3B4455;\n",
              "      fill: #D2E3FC;\n",
              "    }\n",
              "\n",
              "    [theme=dark] .colab-df-convert:hover {\n",
              "      background-color: #434B5C;\n",
              "      box-shadow: 0px 1px 3px 1px rgba(0, 0, 0, 0.15);\n",
              "      filter: drop-shadow(0px 1px 2px rgba(0, 0, 0, 0.3));\n",
              "      fill: #FFFFFF;\n",
              "    }\n",
              "  </style>\n",
              "\n",
              "      <script>\n",
              "        const buttonEl =\n",
              "          document.querySelector('#df-3931ddde-c4aa-4b41-8b9f-7bfc1d4fa002 button.colab-df-convert');\n",
              "        buttonEl.style.display =\n",
              "          google.colab.kernel.accessAllowed ? 'block' : 'none';\n",
              "\n",
              "        async function convertToInteractive(key) {\n",
              "          const element = document.querySelector('#df-3931ddde-c4aa-4b41-8b9f-7bfc1d4fa002');\n",
              "          const dataTable =\n",
              "            await google.colab.kernel.invokeFunction('convertToInteractive',\n",
              "                                                     [key], {});\n",
              "          if (!dataTable) return;\n",
              "\n",
              "          const docLinkHtml = 'Like what you see? Visit the ' +\n",
              "            '<a target=\"_blank\" href=https://colab.research.google.com/notebooks/data_table.ipynb>data table notebook</a>'\n",
              "            + ' to learn more about interactive tables.';\n",
              "          element.innerHTML = '';\n",
              "          dataTable['output_type'] = 'display_data';\n",
              "          await google.colab.output.renderOutput(dataTable, element);\n",
              "          const docLink = document.createElement('div');\n",
              "          docLink.innerHTML = docLinkHtml;\n",
              "          element.appendChild(docLink);\n",
              "        }\n",
              "      </script>\n",
              "    </div>\n",
              "  </div>\n",
              "  "
            ]
          },
          "metadata": {},
          "execution_count": 11
        }
      ]
    },
    {
      "cell_type": "code",
      "source": [
        "make_confusion_matrix(df['Label'].values, df['Sentiment'].values, classes = class_names, figsize = (15,15), text_size = 12)"
      ],
      "metadata": {
        "colab": {
          "base_uri": "https://localhost:8080/",
          "height": 846
        },
        "id": "HVp2WCLP4EcV",
        "outputId": "6bc961e7-b2d5-40c9-eb18-17c358feb0d0"
      },
      "execution_count": null,
      "outputs": [
        {
          "output_type": "display_data",
          "data": {
            "text/plain": [
              "<Figure size 1080x1080 with 2 Axes>"
            ],
            "image/png": "[encoded data removed]"
          },
          "metadata": {
            "needs_background": "light"
          }
        }
      ]
    },
    {
      "cell_type": "code",
      "source": [
        "sklearn.metrics.cohen_kappa_score(df['Label'].values, df['Sentiment'].values\n",
        ")"
      ],
      "metadata": {
        "colab": {
          "base_uri": "https://localhost:8080/"
        },
        "id": "InxjvdUEwCPx",
        "outputId": "e92a6b8a-e76c-4f6d-f4a7-504ec6785207"
      },
      "execution_count": null,
      "outputs": [
        {
          "output_type": "execute_result",
          "data": {
            "text/plain": [
              "0.001210045956000605"
            ]
          },
          "metadata": {},
          "execution_count": 15
        }
      ]
    }
  ]
}