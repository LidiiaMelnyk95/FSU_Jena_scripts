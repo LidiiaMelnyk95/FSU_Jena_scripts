{
  "nbformat": 4,
  "nbformat_minor": 0,
  "metadata": {
    "colab": {
      "provenance": [],
      "authorship_tag": "ABX9TyMlGC0aW7YZvxX2IKrmX5xQ",
      "include_colab_link": true
    },
    "kernelspec": {
      "name": "python3",
      "display_name": "Python 3"
    },
    "language_info": {
      "name": "python"
    }
  },
  "cells": [
    {
      "cell_type": "markdown",
      "metadata": {
        "id": "view-in-github",
        "colab_type": "text"
      },
      "source": [
        "<a href=\"https://colab.research.google.com/github/LidiiaMelnyk95/FSU_Jena_scripts/blob/main/Create_data_frame_from_Ukrainian_corpus.ipynb\" target=\"_parent\"><img src=\"https://colab.research.google.com/assets/colab-badge.svg\" alt=\"Open In Colab\"/></a>"
      ]
    },
    {
      "cell_type": "code",
      "execution_count": null,
      "metadata": {
        "id": "dsMy6QaXPjJz"
      },
      "outputs": [],
      "source": [
        "import pandas as pd"
      ]
    },
    {
      "cell_type": "code",
      "source": [
        "! pip install kaggle"
      ],
      "metadata": {
        "colab": {
          "base_uri": "https://localhost:8080/"
        },
        "id": "CFgLM0AhQwJ1",
        "outputId": "9a58743f-68c0-4ba1-e56f-f24dff0f4bad"
      },
      "execution_count": null,
      "outputs": [
        {
          "output_type": "stream",
          "name": "stdout",
          "text": [
            "Looking in indexes: https://pypi.org/simple, https://us-python.pkg.dev/colab-wheels/public/simple/\n",
            "Requirement already satisfied: kaggle in /usr/local/lib/python3.10/dist-packages (1.5.13)\n",
            "Requirement already satisfied: six>=1.10 in /usr/local/lib/python3.10/dist-packages (from kaggle) (1.16.0)\n",
            "Requirement already satisfied: certifi in /usr/local/lib/python3.10/dist-packages (from kaggle) (2022.12.7)\n",
            "Requirement already satisfied: python-dateutil in /usr/local/lib/python3.10/dist-packages (from kaggle) (2.8.2)\n",
            "Requirement already satisfied: requests in /usr/local/lib/python3.10/dist-packages (from kaggle) (2.27.1)\n",
            "Requirement already satisfied: tqdm in /usr/local/lib/python3.10/dist-packages (from kaggle) (4.65.0)\n",
            "Requirement already satisfied: python-slugify in /usr/local/lib/python3.10/dist-packages (from kaggle) (8.0.1)\n",
            "Requirement already satisfied: urllib3 in /usr/local/lib/python3.10/dist-packages (from kaggle) (1.26.15)\n",
            "Requirement already satisfied: text-unidecode>=1.3 in /usr/local/lib/python3.10/dist-packages (from python-slugify->kaggle) (1.3)\n",
            "Requirement already satisfied: charset-normalizer~=2.0.0 in /usr/local/lib/python3.10/dist-packages (from requests->kaggle) (2.0.12)\n",
            "Requirement already satisfied: idna<4,>=2.5 in /usr/local/lib/python3.10/dist-packages (from requests->kaggle) (3.4)\n"
          ]
        }
      ]
    },
    {
      "cell_type": "code",
      "source": [
        " from google.colab import files\n",
        " files.upload()"
      ],
      "metadata": {
        "id": "ce7KYMuJQ0uM",
        "colab": {
          "base_uri": "https://localhost:8080/",
          "height": 90
        },
        "outputId": "9cf5f800-e76b-4958-b4b2-d48936e1ad1e"
      },
      "execution_count": null,
      "outputs": [
        {
          "output_type": "display_data",
          "data": {
            "text/plain": [
              "<IPython.core.display.HTML object>"
            ],
            "text/html": [
              "\n",
              "     <input type=\"file\" id=\"files-55949a87-cc6b-4852-a3fd-672e13e9d8c8\" name=\"files[]\" multiple disabled\n",
              "        style=\"border:none\" />\n",
              "     <output id=\"result-55949a87-cc6b-4852-a3fd-672e13e9d8c8\">\n",
              "      Upload widget is only available when the cell has been executed in the\n",
              "      current browser session. Please rerun this cell to enable.\n",
              "      </output>\n",
              "      <script>// Copyright 2017 Google LLC\n",
              "//\n",
              "// Licensed under the Apache License, Version 2.0 (the \"License\");\n",
              "// you may not use this file except in compliance with the License.\n",
              "// You may obtain a copy of the License at\n",
              "//\n",
              "//      http://www.apache.org/licenses/LICENSE-2.0\n",
              "//\n",
              "// Unless required by applicable law or agreed to in writing, software\n",
              "// distributed under the License is distributed on an \"AS IS\" BASIS,\n",
              "// WITHOUT WARRANTIES OR CONDITIONS OF ANY KIND, either express or implied.\n",
              "// See the License for the specific language governing permissions and\n",
              "// limitations under the License.\n",
              "\n",
              "/**\n",
              " * @fileoverview Helpers for google.colab Python module.\n",
              " */\n",
              "(function(scope) {\n",
              "function span(text, styleAttributes = {}) {\n",
              "  const element = document.createElement('span');\n",
              "  element.textContent = text;\n",
              "  for (const key of Object.keys(styleAttributes)) {\n",
              "    element.style[key] = styleAttributes[key];\n",
              "  }\n",
              "  return element;\n",
              "}\n",
              "\n",
              "// Max number of bytes which will be uploaded at a time.\n",
              "const MAX_PAYLOAD_SIZE = 100 * 1024;\n",
              "\n",
              "function _uploadFiles(inputId, outputId) {\n",
              "  const steps = uploadFilesStep(inputId, outputId);\n",
              "  const outputElement = document.getElementById(outputId);\n",
              "  // Cache steps on the outputElement to make it available for the next call\n",
              "  // to uploadFilesContinue from Python.\n",
              "  outputElement.steps = steps;\n",
              "\n",
              "  return _uploadFilesContinue(outputId);\n",
              "}\n",
              "\n",
              "// This is roughly an async generator (not supported in the browser yet),\n",
              "// where there are multiple asynchronous steps and the Python side is going\n",
              "// to poll for completion of each step.\n",
              "// This uses a Promise to block the python side on completion of each step,\n",
              "// then passes the result of the previous step as the input to the next step.\n",
              "function _uploadFilesContinue(outputId) {\n",
              "  const outputElement = document.getElementById(outputId);\n",
              "  const steps = outputElement.steps;\n",
              "\n",
              "  const next = steps.next(outputElement.lastPromiseValue);\n",
              "  return Promise.resolve(next.value.promise).then((value) => {\n",
              "    // Cache the last promise value to make it available to the next\n",
              "    // step of the generator.\n",
              "    outputElement.lastPromiseValue = value;\n",
              "    return next.value.response;\n",
              "  });\n",
              "}\n",
              "\n",
              "/**\n",
              " * Generator function which is called between each async step of the upload\n",
              " * process.\n",
              " * @param {string} inputId Element ID of the input file picker element.\n",
              " * @param {string} outputId Element ID of the output display.\n",
              " * @return {!Iterable<!Object>} Iterable of next steps.\n",
              " */\n",
              "function* uploadFilesStep(inputId, outputId) {\n",
              "  const inputElement = document.getElementById(inputId);\n",
              "  inputElement.disabled = false;\n",
              "\n",
              "  const outputElement = document.getElementById(outputId);\n",
              "  outputElement.innerHTML = '';\n",
              "\n",
              "  const pickedPromise = new Promise((resolve) => {\n",
              "    inputElement.addEventListener('change', (e) => {\n",
              "      resolve(e.target.files);\n",
              "    });\n",
              "  });\n",
              "\n",
              "  const cancel = document.createElement('button');\n",
              "  inputElement.parentElement.appendChild(cancel);\n",
              "  cancel.textContent = 'Cancel upload';\n",
              "  const cancelPromise = new Promise((resolve) => {\n",
              "    cancel.onclick = () => {\n",
              "      resolve(null);\n",
              "    };\n",
              "  });\n",
              "\n",
              "  // Wait for the user to pick the files.\n",
              "  const files = yield {\n",
              "    promise: Promise.race([pickedPromise, cancelPromise]),\n",
              "    response: {\n",
              "      action: 'starting',\n",
              "    }\n",
              "  };\n",
              "\n",
              "  cancel.remove();\n",
              "\n",
              "  // Disable the input element since further picks are not allowed.\n",
              "  inputElement.disabled = true;\n",
              "\n",
              "  if (!files) {\n",
              "    return {\n",
              "      response: {\n",
              "        action: 'complete',\n",
              "      }\n",
              "    };\n",
              "  }\n",
              "\n",
              "  for (const file of files) {\n",
              "    const li = document.createElement('li');\n",
              "    li.append(span(file.name, {fontWeight: 'bold'}));\n",
              "    li.append(span(\n",
              "        `(${file.type || 'n/a'}) - ${file.size} bytes, ` +\n",
              "        `last modified: ${\n",
              "            file.lastModifiedDate ? file.lastModifiedDate.toLocaleDateString() :\n",
              "                                    'n/a'} - `));\n",
              "    const percent = span('0% done');\n",
              "    li.appendChild(percent);\n",
              "\n",
              "    outputElement.appendChild(li);\n",
              "\n",
              "    const fileDataPromise = new Promise((resolve) => {\n",
              "      const reader = new FileReader();\n",
              "      reader.onload = (e) => {\n",
              "        resolve(e.target.result);\n",
              "      };\n",
              "      reader.readAsArrayBuffer(file);\n",
              "    });\n",
              "    // Wait for the data to be ready.\n",
              "    let fileData = yield {\n",
              "      promise: fileDataPromise,\n",
              "      response: {\n",
              "        action: 'continue',\n",
              "      }\n",
              "    };\n",
              "\n",
              "    // Use a chunked sending to avoid message size limits. See b/62115660.\n",
              "    let position = 0;\n",
              "    do {\n",
              "      const length = Math.min(fileData.byteLength - position, MAX_PAYLOAD_SIZE);\n",
              "      const chunk = new Uint8Array(fileData, position, length);\n",
              "      position += length;\n",
              "\n",
              "      const base64 = btoa(String.fromCharCode.apply(null, chunk));\n",
              "      yield {\n",
              "        response: {\n",
              "          action: 'append',\n",
              "          file: file.name,\n",
              "          data: base64,\n",
              "        },\n",
              "      };\n",
              "\n",
              "      let percentDone = fileData.byteLength === 0 ?\n",
              "          100 :\n",
              "          Math.round((position / fileData.byteLength) * 100);\n",
              "      percent.textContent = `${percentDone}% done`;\n",
              "\n",
              "    } while (position < fileData.byteLength);\n",
              "  }\n",
              "\n",
              "  // All done.\n",
              "  yield {\n",
              "    response: {\n",
              "      action: 'complete',\n",
              "    }\n",
              "  };\n",
              "}\n",
              "\n",
              "scope.google = scope.google || {};\n",
              "scope.google.colab = scope.google.colab || {};\n",
              "scope.google.colab._files = {\n",
              "  _uploadFiles,\n",
              "  _uploadFilesContinue,\n",
              "};\n",
              "})(self);\n",
              "</script> "
            ]
          },
          "metadata": {}
        },
        {
          "output_type": "stream",
          "name": "stdout",
          "text": [
            "Saving kaggle-3.json to kaggle-3 (1).json\n"
          ]
        },
        {
          "output_type": "execute_result",
          "data": {
            "text/plain": [
              "{'kaggle-3.json': b'{\"username\":\"lidiiamelnyk\",\"key\":\"af02ac046b9491614890bbb7dfecd5bb\"}'}"
            ]
          },
          "metadata": {},
          "execution_count": 3
        }
      ]
    },
    {
      "cell_type": "code",
      "source": [
        "!touch ~/.kaggle/kaggle.json\n",
        "\n",
        "api_token = {\"username\":\"username\",\"key\":\"api-key\"}\n",
        "\n",
        "import json\n",
        "\n",
        "with open('/kaggle-3.json', 'w') as file:\n",
        "    json.dump(api_token, file)\n",
        "\n",
        "!chmod 600 ~/.kaggle/kaggle.json"
      ],
      "metadata": {
        "colab": {
          "base_uri": "https://localhost:8080/"
        },
        "id": "W0mYtzf4Acs9",
        "outputId": "3e916345-6bc3-46f0-8a57-3242a1667eaf"
      },
      "execution_count": null,
      "outputs": [
        {
          "output_type": "stream",
          "name": "stdout",
          "text": [
            "touch: cannot touch '/root/.kaggle/kaggle.json': No such file or directory\n",
            "chmod: cannot access '/root/.kaggle/kaggle.json': No such file or directory\n"
          ]
        }
      ]
    },
    {
      "cell_type": "markdown",
      "source": [
        "# Neuer Abschnitt"
      ],
      "metadata": {
        "id": "fgIt4m1mA0ot"
      }
    },
    {
      "cell_type": "code",
      "source": [
        "import os\n",
        "os.environ[\"KAGGLE_CONFIG_DIR\"] = \"/content/\"\n",
        "\n",
        "api_token = {\"username\":\"lidiiamelnyk\",\"key\":\"af02ac046b9491614890bbb7dfecd5bb\"}\n",
        "\n",
        "import json\n",
        "\n",
        "with open('/content/kaggle.json', 'w') as file:\n",
        "    json.dump(api_token, file)\n",
        "!chmod 600 /content/kaggle.json\n",
        "! kaggle datasets download bwandowando/ukraine-russian-crisis-twitter-dataset-1-2-m-rows"
      ],
      "metadata": {
        "colab": {
          "base_uri": "https://localhost:8080/"
        },
        "id": "CQJz20u5Q5sD",
        "outputId": "6c0fc72b-04f4-4302-8a60-c637e234620f"
      },
      "execution_count": null,
      "outputs": [
        {
          "output_type": "stream",
          "name": "stdout",
          "text": [
            "Downloading ukraine-russian-crisis-twitter-dataset-1-2-m-rows.zip to /content\n",
            "100% 16.7G/16.7G [04:11<00:00, 93.2MB/s]\n",
            "100% 16.7G/16.7G [04:11<00:00, 71.1MB/s]\n"
          ]
        }
      ]
    },
    {
      "cell_type": "code",
      "source": [
        "!unzip /content/ukraine-russian-crisis-twitter-dataset-1-2-m-rows.zip"
      ],
      "metadata": {
        "id": "l8xdrqBqRaV0"
      },
      "execution_count": null,
      "outputs": []
    },
    {
      "cell_type": "markdown",
      "source": [
        "***Process the unzip dfs***"
      ],
      "metadata": {
        "id": "O_1XEM7kUEu7"
      }
    },
    {
      "cell_type": "code",
      "source": [
        "import pandas as pd\n",
        "import glob\n",
        "\n",
        "# Initialize an empty list to store DataFrames\n",
        "dfs = []\n",
        "\n",
        "# List of file groups\n",
        "file_groups = [\n",
        "    glob.glob('/content/*.gzip')[:20],\n",
        "    glob.glob('/content/*.gzip')[20:40],\n",
        "    glob.glob('/content/*.gzip')[40:60],\n",
        "    glob.glob('/content/*.gzip')[:20],\n",
        "    glob.glob('/content/*.gzip')[40:60],\n",
        "    glob.glob('/content/*.gzip')[60:80],\n",
        "    glob.glob('/content/*.gzip')[80:100],\n",
        "    glob.glob('/content/*.gzip')[100:120],\n",
        "    glob.glob('/content/*.gzip')[120:140],\n",
        "    glob.glob('/content/*.gzip')[140:160],\n",
        "    glob.glob('/content/*.gzip')[160:180],\n",
        "    glob.glob('/content/*.gzip')[180:200],\n",
        "    glob.glob('/content/*.gzip')[200:220],\n",
        "    glob.glob('/content/*.gzip')[220:240],\n",
        "    glob.glob('/content/*.gzip')[240:]\n",
        "]\n",
        "\n",
        "# Iterate through file groups\n",
        "for files in file_groups:\n",
        "    # Initialize an empty DataFrame for the current group\n",
        "    group_df = pd.DataFrame()\n",
        "\n",
        "    # Iterate through files in the current group\n",
        "    for file in files:\n",
        "        # Read the DataFrame and filter by location\n",
        "        df1 = pd.read_csv(file, compression='gzip', index_col=0, encoding='utf-8', quoting=csv.QUOTE_ALL)\n",
        "        df1 = df1[df1.location == 'Ukraine']\n",
        "\n",
        "        # Append the filtered DataFrame to the current group\n",
        "        group_df = group_df.append(df1, ignore_index=True)\n",
        "\n",
        "    # Append the current group DataFrame to the list\n",
        "    dfs.append(group_df)\n",
        "\n",
        "# Concatenate all DataFrames in the list into one\n",
        "df_concat = pd.concat(dfs, ignore_index=True)\n",
        "\n",
        "# Display the shape of the resulting DataFrame\n",
        "print(df_concat.shape)\n"
      ],
      "metadata": {
        "id": "062gTm10Up55"
      },
      "execution_count": null,
      "outputs": []
    },
    {
      "cell_type": "code",
      "source": [
        "df_concat = pd.concat([df, df1])\n",
        "df_concat = df_concat.drop_duplicates(subset = 'tweetid')\n",
        "df_concat = df_concat[df_concat['is_retweet']!=True]"
      ],
      "metadata": {
        "id": "BHoLeVZPyrfH"
      },
      "execution_count": null,
      "outputs": []
    },
    {
      "cell_type": "code",
      "source": [
        "df_concat.shape"
      ],
      "metadata": {
        "colab": {
          "base_uri": "https://localhost:8080/"
        },
        "id": "QZxdnHrzy_HY",
        "outputId": "de1a4680-e0cc-4e4d-dbc6-c7d2741ea192"
      },
      "execution_count": null,
      "outputs": [
        {
          "output_type": "execute_result",
          "data": {
            "text/plain": [
              "(435135, 31)"
            ]
          },
          "metadata": {},
          "execution_count": 57
        }
      ]
    },
    {
      "cell_type": "code",
      "source": [
        "#process data formatting\n",
        "from datetime import datetime\n",
        "input_format = \"%Y-%m-%d %H:%M:%S\"\n",
        "output_format = \"%B %d, %Y\"\n",
        "df_concat = df_concat[df_concat['tweetcreatedts'] != \"0.0\"]\n",
        "df_concat['Formatted_Date'] = pd.to_datetime(df_concat['tweetcreatedts'], format=input_format).dt.strftime(output_format)\n"
      ],
      "metadata": {
        "id": "k7-f8zQSs0OU"
      },
      "execution_count": null,
      "outputs": []
    },
    {
      "cell_type": "markdown",
      "source": [
        "***Monthly visualisation***"
      ],
      "metadata": {
        "id": "6jbvkb3mUya8"
      }
    },
    {
      "cell_type": "code",
      "source": [
        "import matplotlib.pyplot as plt\n",
        "\n",
        "df_concat['Month_Year'] = pd.to_datetime(df_concat['Formatted_Date']).dt.to_period('M')\n",
        "\n",
        "# Count the occurrences of each unique month-year value\n",
        "month_year_counts = df_concat['Month_Year'].value_counts()\n",
        "\n",
        "# Sort the values by the month-year index\n",
        "month_year_counts = month_year_counts.sort_index()\n",
        "\n",
        "# Create a bar plot\n",
        "month_year_counts.plot(kind='bar')\n",
        "\n",
        "# Customize the plot\n",
        "plt.xlabel('Month-Year')\n",
        "plt.ylabel('Count')\n",
        "plt.title('Distribution of Formatted Dates by Month')\n",
        "\n",
        "# Display the plot\n",
        "plt.show()"
      ],
      "metadata": {
        "colab": {
          "base_uri": "https://localhost:8080/",
          "height": 515
        },
        "id": "6_pdYmO0t2f9",
        "outputId": "117203cb-5f85-4afa-f2f0-cfb0c08c757b"
      },
      "execution_count": null,
      "outputs": [
        {
          "output_type": "display_data",
          "data": {
            "text/plain": [
              "<Figure size 640x480 with 1 Axes>"
            ],
            "image/png": "[encoded data removed]"
          },
          "metadata": {}
        }
      ]
    },
    {
      "cell_type": "code",
      "source": [
        "df_concat['Month_Year'].value_counts()"
      ],
      "metadata": {
        "colab": {
          "base_uri": "https://localhost:8080/"
        },
        "id": "06bpKBvntTRt",
        "outputId": "c4753031-9acf-4586-cce3-2098dc717e9f"
      },
      "execution_count": null,
      "outputs": [
        {
          "output_type": "execute_result",
          "data": {
            "text/plain": [
              "2022-03    73992\n",
              "2022-04    62958\n",
              "2022-08    33401\n",
              "2022-10    32814\n",
              "2022-09    30505\n",
              "2022-11    28437\n",
              "2022-05    28237\n",
              "2022-06    22682\n",
              "2022-12    22619\n",
              "2023-03    20801\n",
              "2023-01    18340\n",
              "2022-07    17705\n",
              "2023-02    16943\n",
              "2023-04    11396\n",
              "2023-05     6720\n",
              "2023-06     4517\n",
              "2022-02     3066\n",
              "Freq: M, Name: Month_Year, dtype: int64"
            ]
          },
          "metadata": {},
          "execution_count": 72
        }
      ]
    },
    {
      "cell_type": "code",
      "source": [
        "df_concat['username'].value_counts()"
      ],
      "metadata": {
        "colab": {
          "base_uri": "https://localhost:8080/"
        },
        "id": "Pz_gMYId1XtI",
        "outputId": "b3a5d49c-a9eb-4f16-bf52-e247e40d5606"
      },
      "execution_count": null,
      "outputs": [
        {
          "output_type": "execute_result",
          "data": {
            "text/plain": [
              "UkraineAlert      29803\n",
              "UKRWarSitRep      12370\n",
              "u24_news           7822\n",
              "EuromaidanPR       6555\n",
              "UATV_en            6392\n",
              "                  ...  \n",
              "ModernMaan            1\n",
              "ukraine_fight9        1\n",
              "hereismixall          1\n",
              "www332022             1\n",
              "realVictorReal        1\n",
              "Name: username, Length: 15096, dtype: int64"
            ]
          },
          "metadata": {},
          "execution_count": 74
        }
      ]
    },
    {
      "cell_type": "code",
      "source": [
        "df_concat.to_csv('corpus_data_ukraine_russia_full.csv')"
      ],
      "metadata": {
        "id": "nK6_6dJKkuwL"
      },
      "execution_count": null,
      "outputs": []
    }
  ]
}