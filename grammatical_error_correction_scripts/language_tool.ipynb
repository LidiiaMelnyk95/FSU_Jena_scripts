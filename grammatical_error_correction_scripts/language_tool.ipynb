{
  "cells": [
    {
      "cell_type": "markdown",
      "metadata": {
        "id": "view-in-github",
        "colab_type": "text"
      },
      "source": [
        "<a href=\"https://colab.research.google.com/github/LidiiaMelnyk95/FSU_Jena_scripts/blob/main/language_tool.ipynb\" target=\"_parent\"><img src=\"https://colab.research.google.com/assets/colab-badge.svg\" alt=\"Open In Colab\"/></a>"
      ]
    },
    {
      "cell_type": "code",
      "execution_count": null,
      "metadata": {
        "id": "V_Dh7hWL3EXQ"
      },
      "outputs": [],
      "source": [
        "! pip install --upgrade language_tool_python\n",
        "!pip install simple_colors"
      ]
    },
    {
      "cell_type": "code",
      "execution_count": null,
      "metadata": {
        "id": "wb8nmQ9d6gwp"
      },
      "outputs": [],
      "source": [
        "import language_tool_python\n",
        "import simple_colors"
      ]
    },
    {
      "cell_type": "code",
      "execution_count": null,
      "metadata": {
        "id": "Myezgv236juN"
      },
      "outputs": [],
      "source": [
        "import glob\n",
        "import os\n",
        "import pandas as pd\n",
        "data = pd.read_csv('/content/Validation_Commas.csv', sep = ',')"
      ]
    },
    {
      "cell_type": "code",
      "source": [
        "data.head()"
      ],
      "metadata": {
        "id": "Z2mJHh8AH5H3",
        "colab": {
          "base_uri": "https://localhost:8080/",
          "height": 469
        },
        "outputId": "d5bb096d-f06d-401a-bf07-8dab7ca5c314"
      },
      "execution_count": null,
      "outputs": [
        {
          "output_type": "execute_result",
          "data": {
            "text/plain": [
              "   Unnamed: 0.2  Unnamed: 0  Unnamed: 0.1  \\\n",
              "0             0           0           499   \n",
              "1             1           1          2061   \n",
              "2             2           2          1562   \n",
              "3             3           3          1772   \n",
              "4             4           4          1217   \n",
              "\n",
              "                                             Comment Commas  \\\n",
              "0  \"Einfach mal nicht homosexuell sein, dann pass...    NaN   \n",
              "1  @ geht mir manchmal immer noch so beim Lesen a...    NaN   \n",
              "2  Mhm. Nur die AFD redet über dieses Thema. Nur ...    NaN   \n",
              "3                                 Was meinste genau?    NaN   \n",
              "4  Warum wird eigentlich ganz am Anfang schon dur...    NaN   \n",
              "\n",
              "   Claudius (correct = 1, not correct = 0) Claudius comments  \\\n",
              "0                                      NaN               NaN   \n",
              "1                                      NaN               NaN   \n",
              "2                                      NaN               NaN   \n",
              "3                                      NaN               NaN   \n",
              "4                                      NaN               NaN   \n",
              "\n",
              "   Tanya (correct = 1, not correct = 0) Tanya comments  Unnamed: 9  \n",
              "0                                   NaN            NaN         NaN  \n",
              "1                                   NaN            NaN         NaN  \n",
              "2                                   NaN            NaN         NaN  \n",
              "3                                   NaN            NaN         NaN  \n",
              "4                                   NaN            NaN         NaN  "
            ],
            "text/html": [
              "\n",
              "  <div id=\"df-6484b41c-6e5b-48b9-9c4a-d9853aa79fb5\">\n",
              "    <div class=\"colab-df-container\">\n",
              "      <div>\n",
              "<style scoped>\n",
              "    .dataframe tbody tr th:only-of-type {\n",
              "        vertical-align: middle;\n",
              "    }\n",
              "\n",
              "    .dataframe tbody tr th {\n",
              "        vertical-align: top;\n",
              "    }\n",
              "\n",
              "    .dataframe thead th {\n",
              "        text-align: right;\n",
              "    }\n",
              "</style>\n",
              "<table border=\"1\" class=\"dataframe\">\n",
              "  <thead>\n",
              "    <tr style=\"text-align: right;\">\n",
              "      <th></th>\n",
              "      <th>Unnamed: 0.2</th>\n",
              "      <th>Unnamed: 0</th>\n",
              "      <th>Unnamed: 0.1</th>\n",
              "      <th>Comment</th>\n",
              "      <th>Commas</th>\n",
              "      <th>Claudius (correct = 1, not correct = 0)</th>\n",
              "      <th>Claudius comments</th>\n",
              "      <th>Tanya (correct = 1, not correct = 0)</th>\n",
              "      <th>Tanya comments</th>\n",
              "      <th>Unnamed: 9</th>\n",
              "    </tr>\n",
              "  </thead>\n",
              "  <tbody>\n",
              "    <tr>\n",
              "      <th>0</th>\n",
              "      <td>0</td>\n",
              "      <td>0</td>\n",
              "      <td>499</td>\n",
              "      <td>\"Einfach mal nicht homosexuell sein, dann pass...</td>\n",
              "      <td>NaN</td>\n",
              "      <td>NaN</td>\n",
              "      <td>NaN</td>\n",
              "      <td>NaN</td>\n",
              "      <td>NaN</td>\n",
              "      <td>NaN</td>\n",
              "    </tr>\n",
              "    <tr>\n",
              "      <th>1</th>\n",
              "      <td>1</td>\n",
              "      <td>1</td>\n",
              "      <td>2061</td>\n",
              "      <td>@ geht mir manchmal immer noch so beim Lesen a...</td>\n",
              "      <td>NaN</td>\n",
              "      <td>NaN</td>\n",
              "      <td>NaN</td>\n",
              "      <td>NaN</td>\n",
              "      <td>NaN</td>\n",
              "      <td>NaN</td>\n",
              "    </tr>\n",
              "    <tr>\n",
              "      <th>2</th>\n",
              "      <td>2</td>\n",
              "      <td>2</td>\n",
              "      <td>1562</td>\n",
              "      <td>Mhm. Nur die AFD redet über dieses Thema. Nur ...</td>\n",
              "      <td>NaN</td>\n",
              "      <td>NaN</td>\n",
              "      <td>NaN</td>\n",
              "      <td>NaN</td>\n",
              "      <td>NaN</td>\n",
              "      <td>NaN</td>\n",
              "    </tr>\n",
              "    <tr>\n",
              "      <th>3</th>\n",
              "      <td>3</td>\n",
              "      <td>3</td>\n",
              "      <td>1772</td>\n",
              "      <td>Was meinste genau?</td>\n",
              "      <td>NaN</td>\n",
              "      <td>NaN</td>\n",
              "      <td>NaN</td>\n",
              "      <td>NaN</td>\n",
              "      <td>NaN</td>\n",
              "      <td>NaN</td>\n",
              "    </tr>\n",
              "    <tr>\n",
              "      <th>4</th>\n",
              "      <td>4</td>\n",
              "      <td>4</td>\n",
              "      <td>1217</td>\n",
              "      <td>Warum wird eigentlich ganz am Anfang schon dur...</td>\n",
              "      <td>NaN</td>\n",
              "      <td>NaN</td>\n",
              "      <td>NaN</td>\n",
              "      <td>NaN</td>\n",
              "      <td>NaN</td>\n",
              "      <td>NaN</td>\n",
              "    </tr>\n",
              "  </tbody>\n",
              "</table>\n",
              "</div>\n",
              "      <button class=\"colab-df-convert\" onclick=\"convertToInteractive('df-6484b41c-6e5b-48b9-9c4a-d9853aa79fb5')\"\n",
              "              title=\"Convert this dataframe to an interactive table.\"\n",
              "              style=\"display:none;\">\n",
              "        \n",
              "  <svg xmlns=\"http://www.w3.org/2000/svg\" height=\"24px\"viewBox=\"0 0 24 24\"\n",
              "       width=\"24px\">\n",
              "    <path d=\"M0 0h24v24H0V0z\" fill=\"none\"/>\n",
              "    <path d=\"M18.56 5.44l.94 2.06.94-2.06 2.06-.94-2.06-.94-.94-2.06-.94 2.06-2.06.94zm-11 1L8.5 8.5l.94-2.06 2.06-.94-2.06-.94L8.5 2.5l-.94 2.06-2.06.94zm10 10l.94 2.06.94-2.06 2.06-.94-2.06-.94-.94-2.06-.94 2.06-2.06.94z\"/><path d=\"M17.41 7.96l-1.37-1.37c-.4-.4-.92-.59-1.43-.59-.52 0-1.04.2-1.43.59L10.3 9.45l-7.72 7.72c-.78.78-.78 2.05 0 2.83L4 21.41c.39.39.9.59 1.41.59.51 0 1.02-.2 1.41-.59l7.78-7.78 2.81-2.81c.8-.78.8-2.07 0-2.86zM5.41 20L4 18.59l7.72-7.72 1.47 1.35L5.41 20z\"/>\n",
              "  </svg>\n",
              "      </button>\n",
              "      \n",
              "  <style>\n",
              "    .colab-df-container {\n",
              "      display:flex;\n",
              "      flex-wrap:wrap;\n",
              "      gap: 12px;\n",
              "    }\n",
              "\n",
              "    .colab-df-convert {\n",
              "      background-color: #E8F0FE;\n",
              "      border: none;\n",
              "      border-radius: 50%;\n",
              "      cursor: pointer;\n",
              "      display: none;\n",
              "      fill: #1967D2;\n",
              "      height: 32px;\n",
              "      padding: 0 0 0 0;\n",
              "      width: 32px;\n",
              "    }\n",
              "\n",
              "    .colab-df-convert:hover {\n",
              "      background-color: #E2EBFA;\n",
              "      box-shadow: 0px 1px 2px rgba(60, 64, 67, 0.3), 0px 1px 3px 1px rgba(60, 64, 67, 0.15);\n",
              "      fill: #174EA6;\n",
              "    }\n",
              "\n",
              "    [theme=dark] .colab-df-convert {\n",
              "      background-color: #3B4455;\n",
              "      fill: #D2E3FC;\n",
              "    }\n",
              "\n",
              "    [theme=dark] .colab-df-convert:hover {\n",
              "      background-color: #434B5C;\n",
              "      box-shadow: 0px 1px 3px 1px rgba(0, 0, 0, 0.15);\n",
              "      filter: drop-shadow(0px 1px 2px rgba(0, 0, 0, 0.3));\n",
              "      fill: #FFFFFF;\n",
              "    }\n",
              "  </style>\n",
              "\n",
              "      <script>\n",
              "        const buttonEl =\n",
              "          document.querySelector('#df-6484b41c-6e5b-48b9-9c4a-d9853aa79fb5 button.colab-df-convert');\n",
              "        buttonEl.style.display =\n",
              "          google.colab.kernel.accessAllowed ? 'block' : 'none';\n",
              "\n",
              "        async function convertToInteractive(key) {\n",
              "          const element = document.querySelector('#df-6484b41c-6e5b-48b9-9c4a-d9853aa79fb5');\n",
              "          const dataTable =\n",
              "            await google.colab.kernel.invokeFunction('convertToInteractive',\n",
              "                                                     [key], {});\n",
              "          if (!dataTable) return;\n",
              "\n",
              "          const docLinkHtml = 'Like what you see? Visit the ' +\n",
              "            '<a target=\"_blank\" href=https://colab.research.google.com/notebooks/data_table.ipynb>data table notebook</a>'\n",
              "            + ' to learn more about interactive tables.';\n",
              "          element.innerHTML = '';\n",
              "          dataTable['output_type'] = 'display_data';\n",
              "          await google.colab.output.renderOutput(dataTable, element);\n",
              "          const docLink = document.createElement('div');\n",
              "          docLink.innerHTML = docLinkHtml;\n",
              "          element.appendChild(docLink);\n",
              "        }\n",
              "      </script>\n",
              "    </div>\n",
              "  </div>\n",
              "  "
            ]
          },
          "metadata": {},
          "execution_count": 8
        }
      ]
    },
    {
      "cell_type": "code",
      "execution_count": null,
      "metadata": {
        "id": "bQKmUPA-68R1",
        "colab": {
          "base_uri": "https://localhost:8080/"
        },
        "outputId": "e9f6feee-62b1-4a19-a884-193ac14be111"
      },
      "outputs": [
        {
          "output_type": "execute_result",
          "data": {
            "text/plain": [
              "array(['\"Einfach mal nicht homosexuell sein, dann passiert sowas nicht\" Merkste was?Das sucht man sich nicht aus. Es ist einfach so, und da hilft nur die Transition.',\n",
              "       \"@ geht mir manchmal immer noch so beim Lesen akademischer Lektüre.In der Regel wird's kontinuierlich besser, wenn man am Ball bleibt.\",\n",
              "       'Mhm. Nur die AFD redet über dieses Thema. Nur die AFD bringt es in den Bundestag... jaja',\n",
              "       ..., 'Leider noch nicht.',\n",
              "       '@Mii Woher würde man denn wissen, dass da ein biologischer Mann in der Umkleide ist? Starren Sie anderen Menschen in der Umkleide auf die Genitalien? Und was wäre so schlimm daran, wenn die Dame aus dem Video die Frauenumkleide nutzen würde? Ich fände es eher seltsam, wenn sie in die Männerumkleide käme.',\n",
              "       '@ : \"Was willst du mir sagen?\"> Dass die Sprache mitunter bewusst zur Sexusdifferenzierung eingesetzt wird & das grammatikalische (Genus) dabei das biologische Geschlecht (Sexus) anzeigt - z.B.: Lehrer & Lehrerinnen bzw. Lehrer*innen .'],\n",
              "      dtype=object)"
            ]
          },
          "metadata": {},
          "execution_count": 6
        }
      ],
      "source": [
        "data['Comment'].values"
      ]
    },
    {
      "cell_type": "code",
      "execution_count": null,
      "metadata": {
        "id": "19sitlmv3Bzg",
        "colab": {
          "base_uri": "https://localhost:8080/"
        },
        "outputId": "5884ae15-1383-4d14-e820-1ad925f15104"
      },
      "outputs": [
        {
          "output_type": "execute_result",
          "data": {
            "text/plain": [
              "(1397, 10)"
            ]
          },
          "metadata": {},
          "execution_count": 8
        }
      ],
      "source": [
        "data = data.drop_duplicates(subset = ['Comment'], inplace = False)\n",
        "data.shape"
      ]
    },
    {
      "cell_type": "code",
      "execution_count": null,
      "metadata": {
        "id": "4aklKcmf6_ro"
      },
      "outputs": [],
      "source": [
        "import pandas as pd\n",
        "import string\n",
        "import language_tool_python\n",
        "from tqdm import tqdm\n",
        "\n",
        "class LanguageToolProcessor:\n",
        "    def __init__(self, data):\n",
        "        self.data = data\n",
        "        self.tool = language_tool_python.LanguageTool('de-DE')\n",
        "        self.corrected_df = pd.DataFrame()\n",
        "        self.punctuation_df = pd.DataFrame()\n",
        "\n",
        "    def apply_casing_correction(self):\n",
        "        for i, row in tqdm(self.data.iterrows(), total=len(self.data), desc=\"Applying Casing Correction\"):\n",
        "            for line in row['Comment'].split('/n'):\n",
        "                checked_lines = []\n",
        "                checked_lines_not_beginning = []\n",
        "                checked = self.tool.check(line)\n",
        "                for k in checked:\n",
        "                    try:\n",
        "                        if k.category == 'CASING':\n",
        "                            if k.ruleId == 'UPPERCASE_SENTENCE_START':\n",
        "                                line_1 = line.replace(k.matchedText, ('DETECT' + '[' + (k.matchedText) + ']'))\n",
        "                                self.data.at[i, 'Comment'] = line_1\n",
        "                                corrected_sentence = k.replacements[0] + k.sentence[len(k.matchedText):]\n",
        "                                checked_lines.append(corrected_sentence)\n",
        "                            else:\n",
        "                                for replacement in k.replacements[:3]:\n",
        "                                    corrected_sentence = k.sentence.split(k.matchedText)[0] + replacement + k.sentence.split(k.matchedText).pop()\n",
        "                                    checked_lines_not_beginning.append(corrected_sentence)\n",
        "                                    line_1 = line.replace(k.matchedText, ('DETECT' + '[' + (k.matchedText) + ']'))\n",
        "                                    self.data.at[i, 'Comment'] = line_1\n",
        "                        self.data.at[i, 'Uppercased'] = checked_lines\n",
        "                        self.data.at[i, 'Casing not beginning'] = checked_lines_not_beginning\n",
        "                    except TypeError:\n",
        "                        pass\n",
        "\n",
        "        self.data.to_csv('casing_corrected.csv', index=False)\n",
        "\n",
        "    def apply_spelling_correction(self):\n",
        "        for i, row in tqdm(self.data.iterrows(), total=len(self.data), desc=\"Applying Spelling Correction\"):\n",
        "            for line in row['Comment'].split('/n'):\n",
        "                checked = self.tool.check(line)\n",
        "                checked_lines = []\n",
        "                for k in checked:\n",
        "                    try:\n",
        "                        if (k.category == 'TYPOS') or (k.category == 'TYPOGRAPHY'):\n",
        "                            self.corrected_df.at[len(self.corrected_df), 'SPELLING'] = line\n",
        "                        word = line[int(k.offset):int(k.offset) + int(k.length) + 1]\n",
        "                        corrected_sentence = line.replace(word, (' DETECT' + '[' + word + ']'))\n",
        "                        self.corrected_df.at[len(self.corrected_df) + 1, 'Comment'] = corrected_sentence\n",
        "                        self.corrected_df.at[len(self.corrected_df), 'SPELLING'] = line\n",
        "                        self.corrected_df.at[len(self.corrected_df), 'RULE ID'] = k.ruleId\n",
        "                    except IndexError:\n",
        "                        pass\n",
        "\n",
        "        self.corrected_df.to_csv('spelling_corrected.csv', index=False)\n",
        "\n",
        "    def apply_punctuation_correction(self):\n",
        "        self.punctuation_df['RULE ID'] = ''\n",
        "        for i, row in tqdm(self.data.iterrows(), total=len(self.data), desc=\"Applying Punctuation Correction\"):\n",
        "            for line in row['Comment'].split('/n'):\n",
        "                checked = self.tool.check(line)\n",
        "                for k in checked:\n",
        "                    try:\n",
        "                        if k.category == 'PUNCTUATION':\n",
        "                            self.data.at[i, 'RULE ID'] = str(k).split()[str(k).split().index('Rule') + 2].rstrip(',')\n",
        "                            self.punctuation_df.at[len(self.punctuation_df), 'Comment'] = line\n",
        "                    except IndexError:\n",
        "                        pass\n",
        "\n",
        "        self.data.to_csv('punctuation_corrected.csv', index=False)\n",
        "        self.punctuation_df.to_csv('punctuation_df.csv', index=False)\n",
        "\n",
        "lt_processor = LanguageToolProcessor(data)\n",
        "\n"
      ]
    },
    {
      "cell_type": "markdown",
      "metadata": {
        "id": "lbiw6hKXJmlW"
      },
      "source": [
        "/.+?(?=abc)/"
      ]
    },
    {
      "cell_type": "code",
      "source": [
        "lt_processor.apply_casing_correction()\n",
        "\n",
        "casing_df = lt_processor.casing_df\n",
        "casing_df['RULE ID'].value_counts()"
      ],
      "metadata": {
        "colab": {
          "base_uri": "https://localhost:8080/"
        },
        "id": "225Cn2EYOLrZ",
        "outputId": "f2448830-1bfc-4cf9-8ac5-fd2ea4605737"
      },
      "execution_count": null,
      "outputs": [
        {
          "output_type": "execute_result",
          "data": {
            "text/plain": [
              "UPPERCASE_SENTENCE_START       148\n",
              "DE_CASE                        115\n",
              "ETWAS_GUTES                     15\n",
              "DOPPELPUNKT_GROSS                9\n",
              "DE_DU_UPPER_LOWER                7\n",
              "GROSSSCHREIBUNG_MAL              4\n",
              "PRAEP_PLUS_VERB                  4\n",
              "VERB_FEM_SUBST                   3\n",
              "ZEIT_SEINES_LEBENS               3\n",
              "ALS_ERSTES                       3\n",
              "DAS_INFINITIV_VON                3\n",
              "IM_SITZEN                        3\n",
              "NOMEN_KLEIN                      3\n",
              "IM_KLAREN                        2\n",
              "KLEIN_NACH_PUNKT                 2\n",
              "JA_NEIN                          2\n",
              "DES_WEITEREN                     2\n",
              "ZUR_ABBITTE_ETC                  2\n",
              "AM_BESTEN                        2\n",
              "ANS_KLEINES_NOMEN                2\n",
              "IHR_EUCH                         1\n",
              "DIENST_SUBST                     1\n",
              "SUB_VER_KLEIN                    1\n",
              "AUF_JEDEN_FALL                   1\n",
              "WENN_UND_ABER                    1\n",
              "GRUENDE_SUBST                    1\n",
              "SUBSTANTIVIERUNG_NACH_DURCH      1\n",
              "SUBSTANTIVIERTES_ADJEKTIV        1\n",
              "BEDENKEN                         1\n",
              "ICH_HABE                         1\n",
              "FRAGEN_HABEN                     1\n",
              "LEID_TUN                         1\n",
              "IM_STILLEN                       1\n",
              "UNTERSCHIED_SUBST                1\n",
              "KLEINSCHREIBUNG_MAL              1\n",
              "ERNST_SUBST                      1\n",
              "ALLE                             1\n",
              "PRP_VER_PRGK                     1\n",
              "AM_VERB_KLEIN                    1\n",
              "BESSEREN_BELEHREN                1\n",
              "FRAGE_KLEIN                      1\n",
              "IN_WEISS                         1\n",
              "EIN_KLEINES_NOMEN                1\n",
              "Name: RULE ID, dtype: int64"
            ]
          },
          "metadata": {},
          "execution_count": 13
        }
      ]
    },
    {
      "cell_type": "code",
      "source": [
        "lt_processor.apply_punctuation_correction()\n",
        "\n",
        "punctuation_df = lt_processor.punctuation_df\n",
        "punctuation_df['RULE ID'].value_counts()"
      ],
      "metadata": {
        "colab": {
          "base_uri": "https://localhost:8080/"
        },
        "id": "VjD8c4OPFnKF",
        "outputId": "2fe63777-5b98-4dac-adc6-b3e8c97722f3"
      },
      "execution_count": null,
      "outputs": [
        {
          "output_type": "execute_result",
          "data": {
            "text/plain": [
              "INDIREKTE_FRAGE                91\n",
              "SUBJUNKTION_KOMMA              51\n",
              "DE_DOUBLE_PUNCTUATION          42\n",
              "DOPPELTES_AUSRUFEZEICHEN       39\n",
              "ICH_GLAUBE_FUER_EUCH           38\n",
              "EINHEIT_LEERZEICHEN            29\n",
              "FRAGEZEICHEN_STATT_PUNKT       24\n",
              "SUBJUNKTION_KOMMA_2            15\n",
              "XJAEHRIG                        9\n",
              "UNPAIRED_BRACKETS               8\n",
              "PUNKT_ENDE_DIREKTE_REDE         6\n",
              "VERINF_DAS_DASS_SUB             6\n",
              "ABKUERZUNG_FEHLENDE_PUNKTE      6\n",
              "DOPPELTE_SATZZEICHEN            5\n",
              "KOMMA_VOR_UND_ZWAR              5\n",
              "KOMMA_VOR_WIE                   5\n",
              "KOMMA_VOR_UND_ODER              3\n",
              "PFEILE                          3\n",
              "ZEICHENSETZUNG_DIREKTE_REDE     2\n",
              "SONDERN_KOMMA                   2\n",
              "SEHR_SEHR_GUT                   2\n",
              "IN_UND_AUSWENDIG                1\n",
              "MEINST_DU_DAS_KOMMA             1\n",
              "KONJUNKTION_DASS_DAS            1\n",
              "WEGEN_DEM_WAS_KOMMA             1\n",
              "WENN_DOCH_KOMMA                 1\n",
              "LEERZEICHEN_RECHENZEICHEN       1\n",
              "Name: RULE ID, dtype: int64"
            ]
          },
          "metadata": {},
          "execution_count": 12
        }
      ]
    },
    {
      "cell_type": "code",
      "source": [
        "lt_processor.apply_spelling_correction()\n",
        "\n",
        "spelling_df = lt_processor.spelling_df\n",
        "spelling_df['RULE ID'].value_counts()\n",
        "spelling_df['RULE ID'].value_counts()"
      ],
      "metadata": {
        "colab": {
          "base_uri": "https://localhost:8080/"
        },
        "id": "xOxOpXuhd4bl",
        "outputId": "1700b9cd-4c09-481e-bc6a-aca9b54be310"
      },
      "execution_count": null,
      "outputs": [
        {
          "output_type": "execute_result",
          "data": {
            "text/plain": [
              "GERMAN_SPELLER_RULE                        1838\n",
              "DOPPELTES_LEERZEICHEN                       264\n",
              "WHITESPACE_RULE                             254\n",
              "COMMA_PARENTHESIS_WHITESPACE                 85\n",
              "LEERZEICHEN_VOR_AUSRUFEZEICHEN_ETC           43\n",
              "LEERZEICHEN_HINTER_DOPPELPUNKT               21\n",
              "SAGT_RUFT                                    11\n",
              "LEERZEICHEN_NACH_VOR_ANFUEHRUNGSZEICHEN       9\n",
              "OLD_SPELLING                                  5\n",
              "SONDER                                        4\n",
              "WEISS                                         4\n",
              "INS_BEZUG                                     2\n",
              "ZUVIEL                                        2\n",
              "GESETZT_GESETZ                                2\n",
              "IM_UM                                         1\n",
              "SO_SCHNELLE_WIE                               1\n",
              "WAHR_NEHMEN                                   1\n",
              "EMAIL                                         1\n",
              "MIT_MIR                                       1\n",
              "AKZENT_STATT_APOSTROPH                        1\n",
              "LEERZEICHEN_UND                               1\n",
              "FALSCHES_ANFUEHRUNGSZEICHEN                   1\n",
              "Name: RULE ID, dtype: int64"
            ]
          },
          "metadata": {},
          "execution_count": 60
        }
      ]
    }
  ],
  "metadata": {
    "colab": {
      "provenance": [],
      "include_colab_link": true
    },
    "kernelspec": {
      "display_name": "Python 3",
      "name": "python3"
    },
    "language_info": {
      "name": "python"
    }
  },
  "nbformat": 4,
  "nbformat_minor": 0
}