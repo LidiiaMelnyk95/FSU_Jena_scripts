{
  "nbformat": 4,
  "nbformat_minor": 0,
  "metadata": {
    "colab": {
      "provenance": [],
      "authorship_tag": "ABX9TyP76SbYo3NV6jTMT/oAx4hz",
      "include_colab_link": true
    },
    "kernelspec": {
      "name": "python3",
      "display_name": "Python 3"
    },
    "language_info": {
      "name": "python"
    }
  },
  "cells": [
    {
      "cell_type": "markdown",
      "metadata": {
        "id": "view-in-github",
        "colab_type": "text"
      },
      "source": [
        "<a href=\"https://colab.research.google.com/github/LidiiaMelnyk95/FSU_Jena_scripts/blob/main/SVM_sentiment_analysis.ipynb\" target=\"_parent\"><img src=\"https://colab.research.google.com/assets/colab-badge.svg\" alt=\"Open In Colab\"/></a>"
      ]
    },
    {
      "cell_type": "code",
      "execution_count": null,
      "metadata": {
        "id": "1A2h_56YxyD2"
      },
      "outputs": [],
      "source": [
        "import pandas as pd"
      ]
    },
    {
      "cell_type": "code",
      "source": [
        "df = pd.read_csv('/content/linear_clusters_no_dupes_annotated.csv', sep = ';')\n",
        "df = df.sample(frac=1).reset_index(drop=True)"
      ],
      "metadata": {
        "id": "ww6VmwsVx7vE"
      },
      "execution_count": null,
      "outputs": []
    },
    {
      "cell_type": "code",
      "source": [
        "import pandas as pd\n",
        "from sklearn.utils import resample\n",
        "\n",
        "def oversample_minority_class(df, minority_class_label, majority_class_label, middle_class_label, random_state=42):\n",
        "    # Separate the DataFrame into majority, minority, and middle classes\n",
        "    df_majority_class = df[df['Classification'] == majority_class_label]\n",
        "    df_minority_class = df[df['Classification'] == minority_class_label]\n",
        "    df_middle_class = df[df['Classification'] == middle_class_label]\n",
        "\n",
        "    # Get the count of each class\n",
        "    class_counts = df['Classification'].value_counts()\n",
        "    count_majority_class = class_counts.get(majority_class_label, 0)\n",
        "    count_middle_class = class_counts.get(middle_class_label, 0)\n",
        "    count_minority_class = class_counts.get(minority_class_label, 0)\n",
        "\n",
        "    # Oversample the minority class using resample\n",
        "    df_class_oversample = resample(df_minority_class, n_samples=count_majority_class, replace=True, random_state=random_state)\n",
        "    df_mid_sample = resample(df_middle_class, n_samples=count_majority_class, replace=True, random_state=random_state)\n",
        "\n",
        "    # Concatenate the balanced data\n",
        "    df_balanced_os = pd.concat([df_class_oversample, df_majority_class, df_mid_sample], axis=0)\n",
        "\n",
        "    return df_balanced_os\n",
        "\n",
        "# Specify your DataFrame and class labels\n",
        "df_balanced_os = oversample_minority_class(df, minority_class_label=3, majority_class_label=1, middle_class_label=2)\n"
      ],
      "metadata": {
        "id": "YGLQ0okGv0GT"
      },
      "execution_count": null,
      "outputs": []
    },
    {
      "cell_type": "code",
      "source": [
        "from sklearn.model_selection import train_test_split\n",
        "\n",
        "train_df, test_df = train_test_split(df_balanced_os, test_size=0.20)"
      ],
      "metadata": {
        "id": "eF7B5z_nyBe_"
      },
      "execution_count": null,
      "outputs": []
    },
    {
      "cell_type": "code",
      "source": [
        "train_df.head()"
      ],
      "metadata": {
        "colab": {
          "base_uri": "https://localhost:8080/",
          "height": 204
        },
        "id": "UBGmaShkyd2C",
        "outputId": "324948d2-7b98-43bc-e927-f3858153aa79"
      },
      "execution_count": null,
      "outputs": [
        {
          "output_type": "execute_result",
          "data": {
            "text/plain": [
              "     Unnamed: 0                                              title  \\\n",
              "126        1146  Selected status is not displayed in the dropdo...   \n",
              "192         118                    ✅ Task: Hand-Over Documentation   \n",
              "196         156  🐞 \"Summary for review was not found\" banner sh...   \n",
              "194        1167   Task: Mixpanel Improvement & Further Integration   \n",
              "137        1103  Overlay is missing the divider at the bottom, ...   \n",
              "\n",
              "     Classification  \n",
              "126               2  \n",
              "192               3  \n",
              "196               2  \n",
              "194               3  \n",
              "137               2  "
            ],
            "text/html": [
              "\n",
              "  <div id=\"df-6deacd46-6dd1-4cfb-ba37-794d10da1dcb\">\n",
              "    <div class=\"colab-df-container\">\n",
              "      <div>\n",
              "<style scoped>\n",
              "    .dataframe tbody tr th:only-of-type {\n",
              "        vertical-align: middle;\n",
              "    }\n",
              "\n",
              "    .dataframe tbody tr th {\n",
              "        vertical-align: top;\n",
              "    }\n",
              "\n",
              "    .dataframe thead th {\n",
              "        text-align: right;\n",
              "    }\n",
              "</style>\n",
              "<table border=\"1\" class=\"dataframe\">\n",
              "  <thead>\n",
              "    <tr style=\"text-align: right;\">\n",
              "      <th></th>\n",
              "      <th>Unnamed: 0</th>\n",
              "      <th>title</th>\n",
              "      <th>Classification</th>\n",
              "    </tr>\n",
              "  </thead>\n",
              "  <tbody>\n",
              "    <tr>\n",
              "      <th>126</th>\n",
              "      <td>1146</td>\n",
              "      <td>Selected status is not displayed in the dropdo...</td>\n",
              "      <td>2</td>\n",
              "    </tr>\n",
              "    <tr>\n",
              "      <th>192</th>\n",
              "      <td>118</td>\n",
              "      <td>✅ Task: Hand-Over Documentation</td>\n",
              "      <td>3</td>\n",
              "    </tr>\n",
              "    <tr>\n",
              "      <th>196</th>\n",
              "      <td>156</td>\n",
              "      <td>🐞 \"Summary for review was not found\" banner sh...</td>\n",
              "      <td>2</td>\n",
              "    </tr>\n",
              "    <tr>\n",
              "      <th>194</th>\n",
              "      <td>1167</td>\n",
              "      <td>Task: Mixpanel Improvement &amp; Further Integration</td>\n",
              "      <td>3</td>\n",
              "    </tr>\n",
              "    <tr>\n",
              "      <th>137</th>\n",
              "      <td>1103</td>\n",
              "      <td>Overlay is missing the divider at the bottom, ...</td>\n",
              "      <td>2</td>\n",
              "    </tr>\n",
              "  </tbody>\n",
              "</table>\n",
              "</div>\n",
              "      <button class=\"colab-df-convert\" onclick=\"convertToInteractive('df-6deacd46-6dd1-4cfb-ba37-794d10da1dcb')\"\n",
              "              title=\"Convert this dataframe to an interactive table.\"\n",
              "              style=\"display:none;\">\n",
              "        \n",
              "  <svg xmlns=\"http://www.w3.org/2000/svg\" height=\"24px\"viewBox=\"0 0 24 24\"\n",
              "       width=\"24px\">\n",
              "    <path d=\"M0 0h24v24H0V0z\" fill=\"none\"/>\n",
              "    <path d=\"M18.56 5.44l.94 2.06.94-2.06 2.06-.94-2.06-.94-.94-2.06-.94 2.06-2.06.94zm-11 1L8.5 8.5l.94-2.06 2.06-.94-2.06-.94L8.5 2.5l-.94 2.06-2.06.94zm10 10l.94 2.06.94-2.06 2.06-.94-2.06-.94-.94-2.06-.94 2.06-2.06.94z\"/><path d=\"M17.41 7.96l-1.37-1.37c-.4-.4-.92-.59-1.43-.59-.52 0-1.04.2-1.43.59L10.3 9.45l-7.72 7.72c-.78.78-.78 2.05 0 2.83L4 21.41c.39.39.9.59 1.41.59.51 0 1.02-.2 1.41-.59l7.78-7.78 2.81-2.81c.8-.78.8-2.07 0-2.86zM5.41 20L4 18.59l7.72-7.72 1.47 1.35L5.41 20z\"/>\n",
              "  </svg>\n",
              "      </button>\n",
              "      \n",
              "  <style>\n",
              "    .colab-df-container {\n",
              "      display:flex;\n",
              "      flex-wrap:wrap;\n",
              "      gap: 12px;\n",
              "    }\n",
              "\n",
              "    .colab-df-convert {\n",
              "      background-color: #E8F0FE;\n",
              "      border: none;\n",
              "      border-radius: 50%;\n",
              "      cursor: pointer;\n",
              "      display: none;\n",
              "      fill: #1967D2;\n",
              "      height: 32px;\n",
              "      padding: 0 0 0 0;\n",
              "      width: 32px;\n",
              "    }\n",
              "\n",
              "    .colab-df-convert:hover {\n",
              "      background-color: #E2EBFA;\n",
              "      box-shadow: 0px 1px 2px rgba(60, 64, 67, 0.3), 0px 1px 3px 1px rgba(60, 64, 67, 0.15);\n",
              "      fill: #174EA6;\n",
              "    }\n",
              "\n",
              "    [theme=dark] .colab-df-convert {\n",
              "      background-color: #3B4455;\n",
              "      fill: #D2E3FC;\n",
              "    }\n",
              "\n",
              "    [theme=dark] .colab-df-convert:hover {\n",
              "      background-color: #434B5C;\n",
              "      box-shadow: 0px 1px 3px 1px rgba(0, 0, 0, 0.15);\n",
              "      filter: drop-shadow(0px 1px 2px rgba(0, 0, 0, 0.3));\n",
              "      fill: #FFFFFF;\n",
              "    }\n",
              "  </style>\n",
              "\n",
              "      <script>\n",
              "        const buttonEl =\n",
              "          document.querySelector('#df-6deacd46-6dd1-4cfb-ba37-794d10da1dcb button.colab-df-convert');\n",
              "        buttonEl.style.display =\n",
              "          google.colab.kernel.accessAllowed ? 'block' : 'none';\n",
              "\n",
              "        async function convertToInteractive(key) {\n",
              "          const element = document.querySelector('#df-6deacd46-6dd1-4cfb-ba37-794d10da1dcb');\n",
              "          const dataTable =\n",
              "            await google.colab.kernel.invokeFunction('convertToInteractive',\n",
              "                                                     [key], {});\n",
              "          if (!dataTable) return;\n",
              "\n",
              "          const docLinkHtml = 'Like what you see? Visit the ' +\n",
              "            '<a target=\"_blank\" href=https://colab.research.google.com/notebooks/data_table.ipynb>data table notebook</a>'\n",
              "            + ' to learn more about interactive tables.';\n",
              "          element.innerHTML = '';\n",
              "          dataTable['output_type'] = 'display_data';\n",
              "          await google.colab.output.renderOutput(dataTable, element);\n",
              "          const docLink = document.createElement('div');\n",
              "          docLink.innerHTML = docLinkHtml;\n",
              "          element.appendChild(docLink);\n",
              "        }\n",
              "      </script>\n",
              "    </div>\n",
              "  </div>\n",
              "  "
            ]
          },
          "metadata": {},
          "execution_count": 97
        }
      ]
    },
    {
      "cell_type": "code",
      "source": [
        "from sklearn.feature_extraction.text import TfidfVectorizer\n",
        "# Create feature vectors\n",
        "vectorizer = TfidfVectorizer(sublinear_tf = True,\n",
        "                             use_idf = True)\n",
        "train_vectors = vectorizer.fit_transform(train_df['title'].astype(str))\n",
        "test_vectors = vectorizer.transform(test_df['title'].astype(str))"
      ],
      "metadata": {
        "id": "7TtyoOpAyRkp"
      },
      "execution_count": null,
      "outputs": []
    },
    {
      "cell_type": "code",
      "source": [
        "print(\"Training time: %fs; Prediction time: %fs\" % (time_linear_train, time_linear_predict))\n",
        "from sklearn.feature_extraction.text import TfidfVectorizer\n",
        "from sklearn.svm import SVC\n",
        "from sklearn.metrics import classification_report\n",
        "from sklearn.model_selection import train_test_split\n",
        "import time\n",
        "\n",
        "# Assuming train_df and test_df are your DataFrames\n",
        "train_df, test_df = train_test_split(df, test_size=0.2, random_state=42)\n",
        "\n",
        "# Create TF-IDF vectors\n",
        "vectorizer = TfidfVectorizer(sublinear_tf=True, use_idf=True)\n",
        "train_vectors = vectorizer.fit_transform(train_df['title'].astype(str))\n",
        "test_vectors = vectorizer.transform(test_df['title'].astype(str))\n",
        "\n",
        "# Train SVM with linear kernel\n",
        "classifier_linear = SVC(kernel='linear')\n",
        "t0 = time.time()\n",
        "classifier_linear.fit(train_vectors, train_df['Classification'])\n",
        "t1 = time.time()\n",
        "\n",
        "# Predict and evaluate\n",
        "prediction_linear = classifier_linear.predict(test_vectors)\n",
        "t2 = time.time()\n",
        "time_linear_train = t1 - t0\n",
        "time_linear_predict = t2 - t1\n",
        "\n",
        "# Output training and prediction times\n",
        "print(\"Training time: %fs; Prediction time: %fs\" % (time_linear_train, time_linear_predict))\n",
        "\n",
        "# Output classification report\n",
        "report = classification_report(test_df['Classification'], prediction_linear, output_dict=True)\n",
        "class_labels = ['feature', 'fixes', 'maintenance']\n",
        "for label in class_labels:\n",
        "    print(f\"{label}: {report[str(label)]['precision']:.4f} precision, {report[str(label)]['recall']:.4f} recall, {report[str(label)]['f1-score']:.4f} f1-score\")\n",
        "\n",
        "print('feature: ', report['1'])\n",
        "print('fixes: ', report['2'])\n",
        "print('maintenance: ', report['3'])"
      ],
      "metadata": {
        "id": "UJIN_liQzSmD"
      },
      "execution_count": null,
      "outputs": []
    },
    {
      "cell_type": "code",
      "source": [
        "linear = svm.SVC(kernel='linear', C=3, decision_function_shape='ovo').fit(train_vectors, train_df['Classification'])\n",
        "rbf = svm.SVC(kernel='rbf', gamma=1, C=1, decision_function_shape='ovo').fit(train_vectors, train_df['Classification'])\n",
        "poly = svm.SVC(kernel='poly', degree=3, C=1, decision_function_shape='ovo').fit(train_vectors, train_df['Classification'])\n",
        "sig = svm.SVC(kernel='sigmoid', C=1, decision_function_shape='ovo').fit(train_vectors, train_df['Classification'])"
      ],
      "metadata": {
        "id": "sbnc5QZR8HBe"
      },
      "execution_count": null,
      "outputs": []
    },
    {
      "cell_type": "code",
      "source": [
        "prediction_rbf = rbf.predict(test_vectors)\n",
        "report = classification_report(test_df['Classification'], prediction_linear, output_dict=True)\n",
        "print('feature: ', report['1'])\n",
        "print('fixes: ', report['2'])\n",
        "print('maintenance: ', report['3'])"
      ],
      "metadata": {
        "colab": {
          "base_uri": "https://localhost:8080/"
        },
        "id": "fzCpS88v8rC1",
        "outputId": "8e5c8536-ee30-4c8d-f4ea-14f16bc7c6e6"
      },
      "execution_count": null,
      "outputs": [
        {
          "output_type": "stream",
          "name": "stdout",
          "text": [
            "feature:  {'precision': 1.0, 'recall': 0.8571428571428571, 'f1-score': 0.923076923076923, 'support': 35}\n",
            "fixes:  {'precision': 0.9142857142857143, 'recall': 1.0, 'f1-score': 0.955223880597015, 'support': 32}\n",
            "maintenance:  {'precision': 0.9411764705882353, 'recall': 1.0, 'f1-score': 0.9696969696969697, 'support': 32}\n"
          ]
        }
      ]
    },
    {
      "cell_type": "code",
      "source": [
        "prediction_poly = poly.predict(test_vectors)\n",
        "report = classification_report(test_df['Classification'], prediction_linear, output_dict=True)\n",
        "print('feature: ', report['1'])\n",
        "print('fixes: ', report['2'])\n",
        "print('maintenance: ', report['3'])"
      ],
      "metadata": {
        "colab": {
          "base_uri": "https://localhost:8080/"
        },
        "id": "hz2EMG5v8zXN",
        "outputId": "53956c49-b356-4ec9-bb1e-38c98fbd5cba"
      },
      "execution_count": null,
      "outputs": [
        {
          "output_type": "stream",
          "name": "stdout",
          "text": [
            "feature:  {'precision': 1.0, 'recall': 0.8571428571428571, 'f1-score': 0.923076923076923, 'support': 35}\n",
            "fixes:  {'precision': 0.9142857142857143, 'recall': 1.0, 'f1-score': 0.955223880597015, 'support': 32}\n",
            "maintenance:  {'precision': 0.9411764705882353, 'recall': 1.0, 'f1-score': 0.9696969696969697, 'support': 32}\n"
          ]
        }
      ]
    },
    {
      "cell_type": "code",
      "source": [
        "prediction_sig = sig.predict(test_vectors)\n",
        "report = classification_report(test_df['Classification'], prediction_linear, output_dict=True)\n",
        "print('feature: ', report['1'])\n",
        "print('fixes: ', report['2'])\n",
        "print('maintenance: ', report['3'])"
      ],
      "metadata": {
        "colab": {
          "base_uri": "https://localhost:8080/"
        },
        "id": "rD3G5VRT89Bf",
        "outputId": "d9b40bf6-8106-4675-9d05-97c63d672ec1"
      },
      "execution_count": null,
      "outputs": [
        {
          "output_type": "stream",
          "name": "stdout",
          "text": [
            "feature:  {'precision': 1.0, 'recall': 0.8571428571428571, 'f1-score': 0.923076923076923, 'support': 35}\n",
            "fixes:  {'precision': 0.9142857142857143, 'recall': 1.0, 'f1-score': 0.955223880597015, 'support': 32}\n",
            "maintenance:  {'precision': 0.9411764705882353, 'recall': 1.0, 'f1-score': 0.9696969696969697, 'support': 32}\n"
          ]
        }
      ]
    },
    {
      "cell_type": "code",
      "source": [
        "prediction_lin = linear.predict(test_vectors)\n",
        "report = classification_report(test_df['Classification'], prediction_linear, output_dict=True)\n",
        "print('feature: ', report['1'])\n",
        "print('fixes: ', report['2'])\n",
        "print('maintenance: ', report['3'])"
      ],
      "metadata": {
        "colab": {
          "base_uri": "https://localhost:8080/"
        },
        "id": "kk58oVE49C1W",
        "outputId": "3b8c4b10-93bc-4a54-e9ee-83e13b43ae33"
      },
      "execution_count": null,
      "outputs": [
        {
          "output_type": "stream",
          "name": "stdout",
          "text": [
            "feature:  {'precision': 1.0, 'recall': 0.8571428571428571, 'f1-score': 0.923076923076923, 'support': 35}\n",
            "fixes:  {'precision': 0.9142857142857143, 'recall': 1.0, 'f1-score': 0.955223880597015, 'support': 32}\n",
            "maintenance:  {'precision': 0.9411764705882353, 'recall': 1.0, 'f1-score': 0.9696969696969697, 'support': 32}\n"
          ]
        }
      ]
    },
    {
      "cell_type": "code",
      "source": [
        "test_prediction_vector =  vectorizer.transform(['delete some updates from our database',\n",
        "                                                    'fix some bugs',\n",
        "                                                    'add something beautiful',\n",
        "                                                    'implement new technology',\n",
        "                                                    'introduce changes to API',\n",
        "                                                    'get some new updates',\n",
        "                                                'improve the performance',\n",
        "                                                'deal with the error'])\n",
        "linear.predict(test_prediction_vector)"
      ],
      "metadata": {
        "colab": {
          "base_uri": "https://localhost:8080/"
        },
        "id": "C8O8CHIbydeP",
        "outputId": "d30b134e-742e-4d46-90d6-7fb009e69b2a"
      },
      "execution_count": null,
      "outputs": [
        {
          "output_type": "execute_result",
          "data": {
            "text/plain": [
              "array([1, 2, 1, 1, 3, 1, 3, 2])"
            ]
          },
          "metadata": {},
          "execution_count": 108
        }
      ]
    },
    {
      "cell_type": "code",
      "source": [
        "from sklearn.metrics import accuracy_score"
      ],
      "metadata": {
        "id": "Nqpc7cFy_kT7"
      },
      "execution_count": null,
      "outputs": []
    },
    {
      "cell_type": "code",
      "source": [
        "list_of_scores = []\n",
        "def accuracy_score_list(y_pred):\n",
        "  list_of_scores.append(accuracy_score(test_df['Classification'], y_pred))\n",
        "  return (accuracy_score(test_df['Classification'], y_pred))\n",
        "accuracy_data = [prediction_lin, prediction_sig, prediction_poly, prediction_rbf]\n",
        "for i in accuracy_data:\n",
        "  accuracy_score_list(i)\n"
      ],
      "metadata": {
        "id": "_oUQkh9K_scU"
      },
      "execution_count": null,
      "outputs": []
    },
    {
      "cell_type": "code",
      "source": [
        "import matplotlib.pyplot as plt\n",
        "names = ['accuracy linear', 'accuracy sigmoid', 'accuracy polynomial', 'accuracy rbf']\n",
        "values = list_of_scores\n",
        "plt.figure(figsize=(9, 3))\n",
        "\n",
        "plt.plot(names, values)\n",
        "plt.suptitle('SVM accuracy')\n",
        "plt.show()"
      ],
      "metadata": {
        "colab": {
          "base_uri": "https://localhost:8080/",
          "height": 233
        },
        "id": "ZpqWzxO9Aft2",
        "outputId": "20bbd38d-c552-49a0-a5ef-85112587c919"
      },
      "execution_count": null,
      "outputs": [
        {
          "output_type": "display_data",
          "data": {
            "text/plain": [
              "<Figure size 648x216 with 1 Axes>"
            ],
            "image/png": "[encoded data removed]"
          },
          "metadata": {
            "needs_background": "light"
          }
        }
      ]
    },
    {
      "cell_type": "code",
      "source": [
        "import tensorflow as tf\n",
        "tf.__version__"
      ],
      "metadata": {
        "colab": {
          "base_uri": "https://localhost:8080/",
          "height": 37
        },
        "id": "Bbp7CONO0afb",
        "outputId": "44d81cd3-516b-41c9-90a2-0daebfedc562"
      },
      "execution_count": null,
      "outputs": [
        {
          "output_type": "execute_result",
          "data": {
            "text/plain": [
              "'2.9.2'"
            ],
            "application/vnd.google.colaboratory.intrinsic+json": {
              "type": "string"
            }
          },
          "metadata": {},
          "execution_count": 112
        }
      ]
    },
    {
      "cell_type": "code",
      "source": [
        "import tensorflow as tf\n",
        "import tensorflow_hub as hub\n",
        "!pip install -q -U \"tensorflow-text==2.9.*\"\n",
        "import tensorflow_text as text\n"
      ],
      "metadata": {
        "id": "52b36iZ83obO"
      },
      "execution_count": null,
      "outputs": []
    },
    {
      "cell_type": "code",
      "source": [
        "bert_preprocess = hub.KerasLayer(\"https://tfhub.dev/tensorflow/bert_en_uncased_preprocess/3\")\n",
        "bert_encoder = hub.KerasLayer(\"https://tfhub.dev/tensorflow/bert_en_uncased_L-12_H-768_A-12/4\")\n",
        "text_input = tf.keras.layers.Input(shape=(), dtype=tf.string, name='text')\n",
        "preprocessed_text = bert_preprocess(text_input)\n",
        "outputs = bert_encoder(preprocessed_text)\n",
        "# Neural network layers\n",
        "l = tf.keras.layers.Dropout(0.01, name=\"dropout\")(outputs['pooled_output'])\n",
        "l = tf.keras.layers.Dense(3, activation='softmax', name=\"output\")(l)\n",
        "# Use inputs and outputs to construct a final model\n",
        "model = tf.keras.Model(inputs=[text_input], outputs = [l])"
      ],
      "metadata": {
        "id": "ZJMSH1_03rJw"
      },
      "execution_count": null,
      "outputs": []
    },
    {
      "cell_type": "code",
      "source": [
        "df['title'] = df['title'].apply(lambda x: x.lower())\n",
        "df_balanced_os['title'] = df_balanced_os['title'].apply(lambda x: x.lower())"
      ],
      "metadata": {
        "id": "bDGKAK2TOUV5"
      },
      "execution_count": null,
      "outputs": []
    },
    {
      "cell_type": "code",
      "source": [
        "import numpy as np\n",
        "from sklearn.preprocessing import OneHotEncoder\n",
        "X_train, X_test, y_train, y_test = train_test_split(df['title'].values,df['Classification'].values.astype(np.int32))\n",
        "encode = OneHotEncoder()\n",
        "\n",
        "training_labels = encode.fit_transform(y_train.reshape(-1,1))\n",
        "testing_labels = encode.transform(y_test.reshape(-1,1))\n",
        "training_labels = training_labels.toarray()\n",
        "testing_labels = testing_labels.toarray()"
      ],
      "metadata": {
        "id": "BE8CPTUz4Ulm"
      },
      "execution_count": null,
      "outputs": []
    },
    {
      "cell_type": "code",
      "source": [
        "training_labels"
      ],
      "metadata": {
        "id": "ea3q7GdGCnWZ"
      },
      "execution_count": null,
      "outputs": []
    },
    {
      "cell_type": "code",
      "source": [
        "model.compile(optimizer='adam', loss='categorical_crossentropy', metrics=['accuracy'])\n",
        "model.fit(X_train, training_labels, epochs=2, batch_size = 6)"
      ],
      "metadata": {
        "id": "8gURX5nqBYxM",
        "colab": {
          "base_uri": "https://localhost:8080/"
        },
        "outputId": "9af33484-0c81-406d-ce2e-7d82c735f112"
      },
      "execution_count": null,
      "outputs": [
        {
          "output_type": "stream",
          "name": "stdout",
          "text": [
            "Epoch 1/2\n",
            "30/30 [==============================] - 81s 3s/step - loss: 0.8529 - accuracy: 0.6610\n",
            "Epoch 2/2\n",
            "30/30 [==============================] - 79s 3s/step - loss: 0.8216 - accuracy: 0.6610\n"
          ]
        },
        {
          "output_type": "execute_result",
          "data": {
            "text/plain": [
              "<keras.callbacks.History at 0x7f9f7caebf50>"
            ]
          },
          "metadata": {},
          "execution_count": 120
        }
      ]
    },
    {
      "cell_type": "code",
      "source": [
        "accr = model.evaluate(X_test,testing_labels)\n",
        "print('Test set\\n  Loss: {:0.3f}\\n  Accuracy: {:0.3f}'.format(accr[0],accr[1]))"
      ],
      "metadata": {
        "id": "uY23hwEY8GAM",
        "colab": {
          "base_uri": "https://localhost:8080/"
        },
        "outputId": "feff091b-42d0-4b4d-9fbd-6481b5a7e7d8"
      },
      "execution_count": null,
      "outputs": [
        {
          "output_type": "stream",
          "name": "stdout",
          "text": [
            "2/2 [==============================] - 27s 12s/step - loss: 0.6002 - accuracy: 0.7627\n",
            "Test set\n",
            "  Loss: 0.600\n",
            "  Accuracy: 0.763\n"
          ]
        }
      ]
    },
    {
      "cell_type": "code",
      "source": [
        "X_train_1, X_test_1, y_train_1, y_test_1 = train_test_split(df_balanced_os['title'].values,df_balanced_os['Classification'].values)\n",
        "\n",
        "training_labels_1 = encode.fit_transform(y_train_1.reshape(-1,1))\n",
        "testing_labels_1 = encode.transform(y_test_1.reshape(-1,1))\n",
        "training_labels_1 = training_labels_1.toarray()\n",
        "testing_labels_1 = testing_labels_1.toarray()\n",
        "model_1 = tf.keras.Model(inputs=[text_input], outputs = [l])\n",
        "model_1.compile(optimizer='adam', loss= tf.keras.losses.CategoricalCrossentropy(), metrics=['accuracy'])\n",
        "model_1.fit(X_train_1, training_labels_1, epochs=2, batch_size = 6)"
      ],
      "metadata": {
        "id": "BTb0UiCQ_AU6",
        "colab": {
          "base_uri": "https://localhost:8080/"
        },
        "outputId": "7c8837a8-d07d-4d0c-ab88-44964525b825"
      },
      "execution_count": null,
      "outputs": [
        {
          "output_type": "stream",
          "name": "stdout",
          "text": [
            "Epoch 1/2\n",
            "62/62 [==============================] - 178s 3s/step - loss: 1.1147 - accuracy: 0.4097\n",
            "Epoch 2/2\n",
            "62/62 [==============================] - 167s 3s/step - loss: 1.0700 - accuracy: 0.4825\n"
          ]
        },
        {
          "output_type": "execute_result",
          "data": {
            "text/plain": [
              "<keras.callbacks.History at 0x7f9f7fcd3390>"
            ]
          },
          "metadata": {},
          "execution_count": 117
        }
      ]
    },
    {
      "cell_type": "code",
      "source": [
        "accr_1 = model_1.evaluate(X_test_1,testing_labels_1)\n",
        "print('Test set\\n  Loss: {:0.3f}\\n  Accuracy: {:0.3f}'.format(accr[0],accr[1]))"
      ],
      "metadata": {
        "colab": {
          "base_uri": "https://localhost:8080/"
        },
        "id": "zW8Pa6qPG_3o",
        "outputId": "5caaae2c-6e1a-450f-886f-a5c5783259a4"
      },
      "execution_count": null,
      "outputs": [
        {
          "output_type": "stream",
          "name": "stdout",
          "text": [
            "4/4 [==============================] - 55s 13s/step - loss: 1.3505 - accuracy: 0.2903\n",
            "Test set\n",
            "  Loss: 0.600\n",
            "  Accuracy: 0.763\n"
          ]
        }
      ]
    }
  ]
}